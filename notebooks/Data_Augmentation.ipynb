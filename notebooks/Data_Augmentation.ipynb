{
  "cells": [
    {
      "cell_type": "markdown",
      "source": [
        "## IA376-L - Projeto Final - Data Augmentation"
      ],
      "metadata": {
        "id": "icOPLskiT6mI"
      }
    },
    {
      "cell_type": "markdown",
      "metadata": {
        "id": "25YSc76_WCQE"
      },
      "source": [
        "Clonando o repositório para pegar a GAN e o GradCAM."
      ]
    },
    {
      "cell_type": "code",
      "execution_count": null,
      "metadata": {
        "colab": {
          "base_uri": "https://localhost:8080/"
        },
        "id": "4CBLD43hzVLp",
        "outputId": "c4a41a4a-1627-4b1c-b628-b32772069759"
      },
      "outputs": [
        {
          "output_type": "stream",
          "name": "stdout",
          "text": [
            "Cloning into 'ia376l'...\n",
            "remote: Enumerating objects: 225, done.\u001b[K\n",
            "remote: Counting objects: 100% (225/225), done.\u001b[K\n",
            "remote: Compressing objects: 100% (130/130), done.\u001b[K\n",
            "remote: Total 225 (delta 105), reused 210 (delta 90), pack-reused 0\u001b[K\n",
            "Receiving objects: 100% (225/225), 26.37 MiB | 24.15 MiB/s, done.\n",
            "Resolving deltas: 100% (105/105), done.\n"
          ]
        }
      ],
      "source": [
        "!git clone https://github.com/pfracarolli/ia376l.git"
      ]
    },
    {
      "cell_type": "markdown",
      "metadata": {
        "id": "08-2OasrWJUt"
      },
      "source": [
        "Instalando o repositório como uma biblioteca."
      ]
    },
    {
      "cell_type": "code",
      "execution_count": null,
      "metadata": {
        "colab": {
          "base_uri": "https://localhost:8080/"
        },
        "id": "RCuI-oY8zdGF",
        "outputId": "cdc4cec5-5aa1-46b6-ebd2-3ca1b2f55112"
      },
      "outputs": [
        {
          "output_type": "stream",
          "name": "stdout",
          "text": [
            "\u001b[33mWARNING: Skipping ia376l as it is not installed.\u001b[0m\n",
            "Looking in indexes: https://pypi.org/simple, https://us-python.pkg.dev/colab-wheels/public/simple/\n",
            "Processing /content/ia376l\n",
            "\u001b[33m  DEPRECATION: A future pip version will change local packages to be built in-place without first copying to a temporary directory. We recommend you use --use-feature=in-tree-build to test your packages with this new behavior before it becomes the default.\n",
            "   pip 21.3 will remove support for this functionality. You can find discussion regarding this at https://github.com/pypa/pip/issues/7555.\u001b[0m\n",
            "Collecting pytorch_lightning\n",
            "  Downloading pytorch_lightning-1.6.4-py3-none-any.whl (585 kB)\n",
            "\u001b[K     |████████████████████████████████| 585 kB 9.5 MB/s \n",
            "\u001b[?25hCollecting einops\n",
            "  Downloading einops-0.4.1-py3-none-any.whl (28 kB)\n",
            "Requirement already satisfied: typing-extensions>=4.0.0 in /usr/local/lib/python3.7/dist-packages (from pytorch_lightning->ia376l==0.1.0) (4.1.1)\n",
            "Requirement already satisfied: tqdm>=4.57.0 in /usr/local/lib/python3.7/dist-packages (from pytorch_lightning->ia376l==0.1.0) (4.64.0)\n",
            "Collecting PyYAML>=5.4\n",
            "  Downloading PyYAML-6.0-cp37-cp37m-manylinux_2_5_x86_64.manylinux1_x86_64.manylinux_2_12_x86_64.manylinux2010_x86_64.whl (596 kB)\n",
            "\u001b[K     |████████████████████████████████| 596 kB 80.4 MB/s \n",
            "\u001b[?25hRequirement already satisfied: tensorboard>=2.2.0 in /usr/local/lib/python3.7/dist-packages (from pytorch_lightning->ia376l==0.1.0) (2.8.0)\n",
            "Collecting torchmetrics>=0.4.1\n",
            "  Downloading torchmetrics-0.9.1-py3-none-any.whl (419 kB)\n",
            "\u001b[K     |████████████████████████████████| 419 kB 90.5 MB/s \n",
            "\u001b[?25hCollecting fsspec[http]!=2021.06.0,>=2021.05.0\n",
            "  Downloading fsspec-2022.5.0-py3-none-any.whl (140 kB)\n",
            "\u001b[K     |████████████████████████████████| 140 kB 94.2 MB/s \n",
            "\u001b[?25hRequirement already satisfied: packaging>=17.0 in /usr/local/lib/python3.7/dist-packages (from pytorch_lightning->ia376l==0.1.0) (21.3)\n",
            "Collecting pyDeprecate>=0.3.1\n",
            "  Downloading pyDeprecate-0.3.2-py3-none-any.whl (10 kB)\n",
            "Requirement already satisfied: torch>=1.8.* in /usr/local/lib/python3.7/dist-packages (from pytorch_lightning->ia376l==0.1.0) (1.11.0+cu113)\n",
            "Requirement already satisfied: protobuf<=3.20.1 in /usr/local/lib/python3.7/dist-packages (from pytorch_lightning->ia376l==0.1.0) (3.17.3)\n",
            "Requirement already satisfied: numpy>=1.17.2 in /usr/local/lib/python3.7/dist-packages (from pytorch_lightning->ia376l==0.1.0) (1.21.6)\n",
            "Collecting aiohttp\n",
            "  Downloading aiohttp-3.8.1-cp37-cp37m-manylinux_2_5_x86_64.manylinux1_x86_64.manylinux_2_12_x86_64.manylinux2010_x86_64.whl (1.1 MB)\n",
            "\u001b[K     |████████████████████████████████| 1.1 MB 82.9 MB/s \n",
            "\u001b[?25hRequirement already satisfied: requests in /usr/local/lib/python3.7/dist-packages (from fsspec[http]!=2021.06.0,>=2021.05.0->pytorch_lightning->ia376l==0.1.0) (2.23.0)\n",
            "Requirement already satisfied: pyparsing!=3.0.5,>=2.0.2 in /usr/local/lib/python3.7/dist-packages (from packaging>=17.0->pytorch_lightning->ia376l==0.1.0) (3.0.9)\n",
            "Requirement already satisfied: six>=1.9 in /usr/local/lib/python3.7/dist-packages (from protobuf<=3.20.1->pytorch_lightning->ia376l==0.1.0) (1.15.0)\n",
            "Requirement already satisfied: tensorboard-plugin-wit>=1.6.0 in /usr/local/lib/python3.7/dist-packages (from tensorboard>=2.2.0->pytorch_lightning->ia376l==0.1.0) (1.8.1)\n",
            "Requirement already satisfied: markdown>=2.6.8 in /usr/local/lib/python3.7/dist-packages (from tensorboard>=2.2.0->pytorch_lightning->ia376l==0.1.0) (3.3.7)\n",
            "Requirement already satisfied: grpcio>=1.24.3 in /usr/local/lib/python3.7/dist-packages (from tensorboard>=2.2.0->pytorch_lightning->ia376l==0.1.0) (1.46.3)\n",
            "Requirement already satisfied: google-auth<3,>=1.6.3 in /usr/local/lib/python3.7/dist-packages (from tensorboard>=2.2.0->pytorch_lightning->ia376l==0.1.0) (1.35.0)\n",
            "Requirement already satisfied: werkzeug>=0.11.15 in /usr/local/lib/python3.7/dist-packages (from tensorboard>=2.2.0->pytorch_lightning->ia376l==0.1.0) (1.0.1)\n",
            "Requirement already satisfied: wheel>=0.26 in /usr/local/lib/python3.7/dist-packages (from tensorboard>=2.2.0->pytorch_lightning->ia376l==0.1.0) (0.37.1)\n",
            "Requirement already satisfied: setuptools>=41.0.0 in /usr/local/lib/python3.7/dist-packages (from tensorboard>=2.2.0->pytorch_lightning->ia376l==0.1.0) (57.4.0)\n",
            "Requirement already satisfied: absl-py>=0.4 in /usr/local/lib/python3.7/dist-packages (from tensorboard>=2.2.0->pytorch_lightning->ia376l==0.1.0) (1.1.0)\n",
            "Requirement already satisfied: google-auth-oauthlib<0.5,>=0.4.1 in /usr/local/lib/python3.7/dist-packages (from tensorboard>=2.2.0->pytorch_lightning->ia376l==0.1.0) (0.4.6)\n",
            "Requirement already satisfied: tensorboard-data-server<0.7.0,>=0.6.0 in /usr/local/lib/python3.7/dist-packages (from tensorboard>=2.2.0->pytorch_lightning->ia376l==0.1.0) (0.6.1)\n",
            "Requirement already satisfied: cachetools<5.0,>=2.0.0 in /usr/local/lib/python3.7/dist-packages (from google-auth<3,>=1.6.3->tensorboard>=2.2.0->pytorch_lightning->ia376l==0.1.0) (4.2.4)\n",
            "Requirement already satisfied: rsa<5,>=3.1.4 in /usr/local/lib/python3.7/dist-packages (from google-auth<3,>=1.6.3->tensorboard>=2.2.0->pytorch_lightning->ia376l==0.1.0) (4.8)\n",
            "Requirement already satisfied: pyasn1-modules>=0.2.1 in /usr/local/lib/python3.7/dist-packages (from google-auth<3,>=1.6.3->tensorboard>=2.2.0->pytorch_lightning->ia376l==0.1.0) (0.2.8)\n",
            "Requirement already satisfied: requests-oauthlib>=0.7.0 in /usr/local/lib/python3.7/dist-packages (from google-auth-oauthlib<0.5,>=0.4.1->tensorboard>=2.2.0->pytorch_lightning->ia376l==0.1.0) (1.3.1)\n",
            "Requirement already satisfied: importlib-metadata>=4.4 in /usr/local/lib/python3.7/dist-packages (from markdown>=2.6.8->tensorboard>=2.2.0->pytorch_lightning->ia376l==0.1.0) (4.11.4)\n",
            "Requirement already satisfied: zipp>=0.5 in /usr/local/lib/python3.7/dist-packages (from importlib-metadata>=4.4->markdown>=2.6.8->tensorboard>=2.2.0->pytorch_lightning->ia376l==0.1.0) (3.8.0)\n",
            "Requirement already satisfied: pyasn1<0.5.0,>=0.4.6 in /usr/local/lib/python3.7/dist-packages (from pyasn1-modules>=0.2.1->google-auth<3,>=1.6.3->tensorboard>=2.2.0->pytorch_lightning->ia376l==0.1.0) (0.4.8)\n",
            "Requirement already satisfied: urllib3!=1.25.0,!=1.25.1,<1.26,>=1.21.1 in /usr/local/lib/python3.7/dist-packages (from requests->fsspec[http]!=2021.06.0,>=2021.05.0->pytorch_lightning->ia376l==0.1.0) (1.24.3)\n",
            "Requirement already satisfied: chardet<4,>=3.0.2 in /usr/local/lib/python3.7/dist-packages (from requests->fsspec[http]!=2021.06.0,>=2021.05.0->pytorch_lightning->ia376l==0.1.0) (3.0.4)\n",
            "Requirement already satisfied: idna<3,>=2.5 in /usr/local/lib/python3.7/dist-packages (from requests->fsspec[http]!=2021.06.0,>=2021.05.0->pytorch_lightning->ia376l==0.1.0) (2.10)\n",
            "Requirement already satisfied: certifi>=2017.4.17 in /usr/local/lib/python3.7/dist-packages (from requests->fsspec[http]!=2021.06.0,>=2021.05.0->pytorch_lightning->ia376l==0.1.0) (2022.6.15)\n",
            "Requirement already satisfied: oauthlib>=3.0.0 in /usr/local/lib/python3.7/dist-packages (from requests-oauthlib>=0.7.0->google-auth-oauthlib<0.5,>=0.4.1->tensorboard>=2.2.0->pytorch_lightning->ia376l==0.1.0) (3.2.0)\n",
            "Collecting async-timeout<5.0,>=4.0.0a3\n",
            "  Downloading async_timeout-4.0.2-py3-none-any.whl (5.8 kB)\n",
            "Requirement already satisfied: attrs>=17.3.0 in /usr/local/lib/python3.7/dist-packages (from aiohttp->fsspec[http]!=2021.06.0,>=2021.05.0->pytorch_lightning->ia376l==0.1.0) (21.4.0)\n",
            "Collecting aiosignal>=1.1.2\n",
            "  Downloading aiosignal-1.2.0-py3-none-any.whl (8.2 kB)\n",
            "Collecting frozenlist>=1.1.1\n",
            "  Downloading frozenlist-1.3.0-cp37-cp37m-manylinux_2_5_x86_64.manylinux1_x86_64.manylinux_2_17_x86_64.manylinux2014_x86_64.whl (144 kB)\n",
            "\u001b[K     |████████████████████████████████| 144 kB 88.6 MB/s \n",
            "\u001b[?25hCollecting asynctest==0.13.0\n",
            "  Downloading asynctest-0.13.0-py3-none-any.whl (26 kB)\n",
            "Collecting multidict<7.0,>=4.5\n",
            "  Downloading multidict-6.0.2-cp37-cp37m-manylinux_2_17_x86_64.manylinux2014_x86_64.whl (94 kB)\n",
            "\u001b[K     |████████████████████████████████| 94 kB 3.8 MB/s \n",
            "\u001b[?25hCollecting yarl<2.0,>=1.0\n",
            "  Downloading yarl-1.7.2-cp37-cp37m-manylinux_2_5_x86_64.manylinux1_x86_64.manylinux_2_12_x86_64.manylinux2010_x86_64.whl (271 kB)\n",
            "\u001b[K     |████████████████████████████████| 271 kB 61.9 MB/s \n",
            "\u001b[?25hRequirement already satisfied: charset-normalizer<3.0,>=2.0 in /usr/local/lib/python3.7/dist-packages (from aiohttp->fsspec[http]!=2021.06.0,>=2021.05.0->pytorch_lightning->ia376l==0.1.0) (2.0.12)\n",
            "Building wheels for collected packages: ia376l\n",
            "  Building wheel for ia376l (setup.py) ... \u001b[?25l\u001b[?25hdone\n",
            "  Created wheel for ia376l: filename=ia376l-0.1.0-py3-none-any.whl size=21715 sha256=32a4eff8c53accfe5c9c27487e82c5293739f55b19a4265bb686e736bfe97bc0\n",
            "  Stored in directory: /tmp/pip-ephem-wheel-cache-57i7aswq/wheels/58/e9/bc/ccaad55e997bb3e09a10ac69f2cdf54416ff181213561d6915\n",
            "Successfully built ia376l\n",
            "Installing collected packages: multidict, frozenlist, yarl, asynctest, async-timeout, aiosignal, fsspec, aiohttp, torchmetrics, PyYAML, pyDeprecate, pytorch-lightning, einops, ia376l\n",
            "  Attempting uninstall: PyYAML\n",
            "    Found existing installation: PyYAML 3.13\n",
            "    Uninstalling PyYAML-3.13:\n",
            "      Successfully uninstalled PyYAML-3.13\n",
            "Successfully installed PyYAML-6.0 aiohttp-3.8.1 aiosignal-1.2.0 async-timeout-4.0.2 asynctest-0.13.0 einops-0.4.1 frozenlist-1.3.0 fsspec-2022.5.0 ia376l-0.1.0 multidict-6.0.2 pyDeprecate-0.3.2 pytorch-lightning-1.6.4 torchmetrics-0.9.1 yarl-1.7.2\n"
          ]
        }
      ],
      "source": [
        "!pip uninstall -y ia376l\n",
        "!cd ./ia376l && pip install ."
      ]
    },
    {
      "cell_type": "markdown",
      "metadata": {
        "id": "VnZaB0BdWOge"
      },
      "source": [
        "Baixando e descomprimindo o dataset."
      ]
    },
    {
      "cell_type": "code",
      "execution_count": null,
      "metadata": {
        "id": "fTLMCVXFOwkv"
      },
      "outputs": [],
      "source": [
        "!mkdir ./data && cp ./drive/MyDrive/FotosModelo.zip ./data/FotosModelo.zip"
      ]
    },
    {
      "cell_type": "code",
      "execution_count": null,
      "metadata": {
        "id": "hpxwEgYMPmAr"
      },
      "outputs": [],
      "source": [
        "!cd ./data && unzip ./FotosModelo.zip > /dev/null && rm -rf ./FotosModelo.zip "
      ]
    },
    {
      "cell_type": "markdown",
      "source": [
        "Criando uma função para setar todas as seeds para fins de reprodutibilidade."
      ],
      "metadata": {
        "id": "1EOv75ISM1Ss"
      }
    },
    {
      "cell_type": "code",
      "source": [
        "import torch\n",
        "import numpy as np\n",
        "import random\n",
        "\n",
        "def set_seed(seed):\n",
        "    random.seed(seed)\n",
        "    np.random.seed(seed)\n",
        "    torch.manual_seed(seed)\n",
        "\n",
        "set_seed(1234)"
      ],
      "metadata": {
        "id": "7CEcxAdnIGa-"
      },
      "execution_count": null,
      "outputs": []
    },
    {
      "cell_type": "markdown",
      "metadata": {
        "id": "7QalWQ6lWXY3"
      },
      "source": [
        "Dividindo o dataset entre treino, validação e teste."
      ]
    },
    {
      "cell_type": "code",
      "execution_count": null,
      "metadata": {
        "id": "dXDHJoWjCbK1"
      },
      "outputs": [],
      "source": [
        "import os\n",
        "import shutil\n",
        "\n",
        "!rm -rf ./data_split\n",
        "set_seed(1234)\n",
        "\n",
        "def write_lines_into_file(filepath, lines):\n",
        "    if not os.path.exists(filepath):\n",
        "        with open(filepath, 'w') as f:\n",
        "            for line in lines:\n",
        "                f.write(f'{line}\\n')\n",
        "\n",
        "def split_dataset(root_dir: str, dist_dir: str, train_size: float = .7, split_dir='./drive/MyDrive/checkpoints'):\n",
        "    train_dir = f\"{dist_dir}/train\"\n",
        "    val_dir = f\"{dist_dir}/validation\"\n",
        "    test_dir = f\"{dist_dir}/test\"\n",
        "\n",
        "    if not os.path.exists(train_dir):\n",
        "        os.makedirs(train_dir)\n",
        "\n",
        "    if not os.path.exists(test_dir):\n",
        "        os.makedirs(test_dir)\n",
        "\n",
        "    if len(os.listdir(train_dir)) == 0 and len(os.listdir(test_dir)) == 0:\n",
        "        for class_dir in os.listdir(root_dir):\n",
        "            currclass_dir = f\"{root_dir}/{class_dir}\"\n",
        "\n",
        "            currclass_train_dir = f\"{train_dir}/{class_dir}\"\n",
        "            currclass_val_dir = f\"{val_dir}/{class_dir}\"\n",
        "            currclass_test_dir = f\"{test_dir}/{class_dir}\"\n",
        "\n",
        "            os.makedirs(currclass_train_dir)\n",
        "            os.makedirs(currclass_val_dir)\n",
        "            os.makedirs(currclass_test_dir)\n",
        "\n",
        "            files = os.listdir(currclass_dir)\n",
        "            np.random.shuffle(files)\n",
        "            num_files = len(files)\n",
        "\n",
        "            train_idx = int(num_files * train_size)\n",
        "            val_idx = train_idx + int((num_files - train_idx) / 2)\n",
        "\n",
        "            if not os.path.exists(f'{split_dir}/{class_dir}'):\n",
        "                os.makedirs(f'{split_dir}/{class_dir}')\n",
        "\n",
        "            train_filename = f'{split_dir}/{class_dir}/train.txt'\n",
        "            validation_filename = f'{split_dir}/{class_dir}/validation.txt'\n",
        "            test_filename = f'{split_dir}/{class_dir}/test.txt'\n",
        "\n",
        "            write_lines_into_file(train_filename, files[:train_idx])\n",
        "            write_lines_into_file(validation_filename, files[train_idx:val_idx])\n",
        "            write_lines_into_file(test_filename, files[val_idx:])\n",
        "\n",
        "            train_filenames = open(train_filename)\n",
        "            validation_filenames = open(validation_filename)\n",
        "            test_filenames = open(test_filename)\n",
        "\n",
        "            for filename in train_filenames.readlines():\n",
        "                shutil.copy(f\"{currclass_dir}/{filename.strip()}\", f\"{currclass_train_dir}/{filename.strip()}\")\n",
        "\n",
        "            for filename in validation_filenames.readlines():\n",
        "                shutil.copy(f\"{currclass_dir}/{filename.strip()}\", f\"{currclass_val_dir}/{filename.strip()}\")\n",
        "\n",
        "            for filename in test_filenames.readlines():\n",
        "                shutil.copy(f\"{currclass_dir}/{filename.strip()}\", f\"{currclass_test_dir}/{filename.strip()}\")\n",
        "\n",
        "            train_filenames.close()\n",
        "            validation_filenames.close()\n",
        "            test_filenames.close()       \n",
        "\n",
        "split_dataset('./data', './data_split')"
      ]
    },
    {
      "cell_type": "markdown",
      "source": [
        "Plotando o histograma das classes para verificar se estão balanceadas."
      ],
      "metadata": {
        "id": "8nd0pmgaUEbv"
      }
    },
    {
      "cell_type": "code",
      "execution_count": null,
      "metadata": {
        "id": "XNHEUdlmo2nh",
        "colab": {
          "base_uri": "https://localhost:8080/",
          "height": 338
        },
        "outputId": "749d0a4e-8057-452b-adad-c85595ddfada"
      },
      "outputs": [
        {
          "output_type": "execute_result",
          "data": {
            "text/plain": [
              "<BarContainer object of 10 artists>"
            ]
          },
          "metadata": {},
          "execution_count": 7
        },
        {
          "output_type": "display_data",
          "data": {
            "text/plain": [
              "<Figure size 1080x360 with 1 Axes>"
            ],
            "image/png": "[encoded data removed]"
          },
          "metadata": {
            "needs_background": "light"
          }
        }
      ],
      "source": [
        "import matplotlib.pyplot as plt\n",
        "\n",
        "train_data = [\n",
        "    (klass, len(os.listdir(f'./data_split/train/{klass}'))) \n",
        "    for klass in os.listdir('./data_split/train')\n",
        "]\n",
        "\n",
        "xs, ys = zip(*train_data)\n",
        "\n",
        "ax = plt.subplot()\n",
        "ax.figure.set_figheight(5)\n",
        "ax.figure.set_figwidth(15)\n",
        "ax.bar(xs, ys)"
      ]
    },
    {
      "cell_type": "markdown",
      "source": [
        "Criando os dataloaders de treino (sem augmentation), validação e teste."
      ],
      "metadata": {
        "id": "1FSQm6Q5ULE5"
      }
    },
    {
      "cell_type": "code",
      "execution_count": null,
      "metadata": {
        "id": "qR7bKwNnQS3X",
        "colab": {
          "base_uri": "https://localhost:8080/"
        },
        "outputId": "59a4753c-3f10-4df1-96ed-cd4d44b656a4"
      },
      "outputs": [
        {
          "output_type": "stream",
          "name": "stdout",
          "text": [
            "# of train examples 2100\n",
            "# of validation examples 450\n",
            "# of test examples 450\n",
            "torch.Size([20, 3, 512, 512])\n",
            "torch.Size([20])\n"
          ]
        }
      ],
      "source": [
        "from multiprocessing import cpu_count\n",
        "\n",
        "from torch.utils.data import DataLoader\n",
        "from torchvision.datasets import ImageFolder\n",
        "from torchvision.transforms import ToTensor, ToPILImage, Compose, Resize\n",
        "\n",
        "ds_transform=Compose([ToTensor(), Resize((512, 512))])\n",
        "ds_train = ImageFolder('./data_split/train', transform=ds_transform)\n",
        "ds_validation = ImageFolder('./data_split/validation', transform=ds_transform)\n",
        "ds_test = ImageFolder('./data_split/test', transform=ds_transform)\n",
        "\n",
        "print('# of train examples', len(ds_train))\n",
        "print('# of validation examples', len(ds_validation))\n",
        "print('# of test examples', len(ds_test))\n",
        "\n",
        "batch_size = 20\n",
        "\n",
        "dl_train = DataLoader(ds_train, batch_size, shuffle=True, num_workers=cpu_count())\n",
        "dl_validation = DataLoader(ds_validation, batch_size, shuffle=False, num_workers=cpu_count())\n",
        "dl_test = DataLoader(ds_test, batch_size, shuffle=False, num_workers=cpu_count())\n",
        "\n",
        "x, y = next(iter(dl_train))\n",
        "\n",
        "print(x.size())\n",
        "print(y.size())"
      ]
    },
    {
      "cell_type": "markdown",
      "source": [
        "Aqui, criamos uma função para criar um objeto `Trainer` do `pytorch_lightning`. Criamos a função para passar os argumentos dinamicamente, pois se passarmos `resume_from_checkpoint` sem ter o arquivo existir iremos ter um erro."
      ],
      "metadata": {
        "id": "DSIUrPDsUTIF"
      }
    },
    {
      "cell_type": "code",
      "execution_count": null,
      "metadata": {
        "id": "RIZxzr5ihBvp"
      },
      "outputs": [],
      "source": [
        "import pytorch_lightning as pl\n",
        "\n",
        "def create_trainer(checkpoint_path: str, filename: str, max_epochs: int = 25) -> pl.Trainer:\n",
        "    trainer_kwargs = {\n",
        "        'gpus': 1,\n",
        "        'max_epochs': max_epochs,\n",
        "    }\n",
        "\n",
        "    trainer_kwargs['callbacks'] = [\n",
        "        pl.callbacks.ModelCheckpoint(\n",
        "            dirpath=checkpoint_path, \n",
        "            filename=filename,\n",
        "            every_n_epochs=1,\n",
        "            save_top_k=1,\n",
        "            monitor='validation_acc',\n",
        "            mode='max'\n",
        "        )\n",
        "    ]\n",
        "\n",
        "    checkpoint_full_path = os.path.join(checkpoint_path, f'{filename}.ckpt')\n",
        "\n",
        "    if os.path.exists(checkpoint_full_path):\n",
        "        trainer_kwargs['resume_from_checkpoint'] = checkpoint_full_path\n",
        "\n",
        "    return pl.Trainer(**trainer_kwargs)"
      ]
    },
    {
      "cell_type": "markdown",
      "source": [
        "Treinamento dos modelos. Por enquanto, estamos apenas testando os checkpoints encontrados. Para repetir os treinamentos e a geração de dados, descomente as linhas comentadas e comente as linhas que carregam os modelos a partir do checkpoint (i.e. `MobileNet.load_from_checkpoint(...)`)."
      ],
      "metadata": {
        "id": "ka2n_KLiXto6"
      }
    },
    {
      "cell_type": "code",
      "execution_count": null,
      "metadata": {
        "id": "oHToBxNaEL3T",
        "colab": {
          "base_uri": "https://localhost:8080/",
          "height": 337,
          "referenced_widgets": [
            "b686ba2a00004a919d20b4d9b1cab947",
            "0b3503ad57aa4adfa450d7ab621bb11a",
            "873123cc2f9f463fb7c709539656ec56",
            "8b00a0cf6c6643ad97ce98d97963f5a8",
            "696800ea091e4a41bc51177cdc74070c",
            "07e1a5ed577646bd9abf5af2ec675721",
            "cda21e625d364657be55c92c35147f91",
            "4588b42bba594cb684f5b6bb1d38e0f8",
            "0c1a0438cec04819bb64e1a0c1fcb3fc",
            "cf29c82973564cdb91607cd35efff646",
            "9d7399bbadb84354b99bf1b74413b4ca"
          ]
        },
        "outputId": "cf532e70-e518-4057-bdad-764ce9d3acc0"
      },
      "outputs": [
        {
          "output_type": "stream",
          "name": "stderr",
          "text": [
            "/usr/local/lib/python3.7/dist-packages/pytorch_lightning/trainer/connectors/checkpoint_connector.py:52: LightningDeprecationWarning: Setting `Trainer(resume_from_checkpoint=)` is deprecated in v1.5 and will be removed in v1.7. Please pass `Trainer.fit(ckpt_path=)` directly instead.\n",
            "  \"Setting `Trainer(resume_from_checkpoint=)` is deprecated in v1.5 and\"\n",
            "GPU available: True, used: True\n",
            "TPU available: False, using: 0 TPU cores\n",
            "IPU available: False, using: 0 IPUs\n",
            "HPU available: False, using: 0 HPUs\n",
            "Missing logger folder: /content/lightning_logs\n",
            "LOCAL_RANK: 0 - CUDA_VISIBLE_DEVICES: [0]\n"
          ]
        },
        {
          "output_type": "display_data",
          "data": {
            "text/plain": [
              "Testing: 0it [00:00, ?it/s]"
            ],
            "application/vnd.jupyter.widget-view+json": {
              "version_major": 2,
              "version_minor": 0,
              "model_id": "b686ba2a00004a919d20b4d9b1cab947"
            }
          },
          "metadata": {}
        },
        {
          "output_type": "stream",
          "name": "stdout",
          "text": [
            "────────────────────────────────────────────────────────────────────────────────────────────────────────────────────────\n",
            "       Test metric             DataLoader 0\n",
            "────────────────────────────────────────────────────────────────────────────────────────────────────────────────────────\n",
            "        test_acc             0.791304347826087\n",
            "        train_acc           0.7977777777777778\n",
            "────────────────────────────────────────────────────────────────────────────────────────────────────────────────────────\n"
          ]
        },
        {
          "output_type": "execute_result",
          "data": {
            "text/plain": [
              "[{'test_acc': 0.791304347826087, 'train_acc': 0.7977777777777778}]"
            ]
          },
          "metadata": {},
          "execution_count": 10
        }
      ],
      "source": [
        "from ia376l.models import MobileNet\n",
        "\n",
        "set_seed(1234)\n",
        "\n",
        "model_base = MobileNet()\n",
        "trainer = create_trainer('./drive/MyDrive/checkpoints/', 'baseline_2') \n",
        "# trainer.fit(model_base, train_dataloaders=dl_train, val_dataloaders=dl_validation)\n",
        "model_base = MobileNet.load_from_checkpoint('./drive/MyDrive/checkpoints/baseline_2.ckpt')\n",
        "trainer.test(model_base, dl_test)"
      ]
    },
    {
      "cell_type": "code",
      "execution_count": null,
      "metadata": {
        "id": "a0ZmEb6IEP2L"
      },
      "outputs": [],
      "source": [
        "# !rm -rf ./data_split/train_gen_25\n",
        "# !cp -r ./data_split/train ./data_split/train_gen_25"
      ]
    },
    {
      "cell_type": "code",
      "execution_count": null,
      "metadata": {
        "id": "8F4i3QRh6tNJ"
      },
      "outputs": [],
      "source": [
        "import gc\n",
        "\n",
        "from tqdm.notebook import tqdm\n",
        "from torchvision.utils import save_image\n",
        "from ia376l.models import Generator\n",
        "\n",
        "set_seed(1234)\n",
        "\n",
        "def generate_samples(generator, train_data_root, weights_root, gen_size=0.25):\n",
        "    for folder in tqdm(os.listdir(train_data_root)):\n",
        "        output_folder = f\"{train_data_root}/{folder}\"\n",
        "        n = int(len(os.listdir(output_folder)) * gen_size)\n",
        "        weights = torch.load(f\"{weights_root}/{folder}.pth\")\n",
        "        generator.load_state_dict(weights['gen_state_dict'])\n",
        "        generator.eval()\n",
        "        \n",
        "        for idx in range(n):\n",
        "            batch = generator(torch.randn(1, 256, 1, 1))\n",
        "            image = batch[0]\n",
        "            save_image(image, f'{output_folder}/{folder}_gen_{idx}.png', normalize=True)\n",
        "\n",
        "        gc.collect()\n",
        "\n",
        "# print('Generating samples...')\n",
        "# generate_samples(Generator(), './data_split/train_gen_25', './drive/MyDrive/PESOS', gen_size=0.25)"
      ]
    },
    {
      "cell_type": "code",
      "execution_count": null,
      "metadata": {
        "id": "OU4LeNHdM9pX"
      },
      "outputs": [],
      "source": [
        "set_seed(1234)\n",
        "\n",
        "# ds_train_gen_25 = ImageFolder('./data_split/train_gen_25', transform=ds_transform)\n",
        "# dl_train_gen_25 = DataLoader(\n",
        "#     ds_train_gen_25, \n",
        "#     batch_size=batch_size, \n",
        "#     shuffle=True, \n",
        "#     num_workers=cpu_count()\n",
        "# )\n",
        "\n",
        "# print('# of training examples (with gen)', len(ds_train_gen_25))\n",
        "# print(next(iter(dl_train_gen_25))[0].size())"
      ]
    },
    {
      "cell_type": "code",
      "execution_count": null,
      "metadata": {
        "id": "DvMZU2roM0b_",
        "colab": {
          "base_uri": "https://localhost:8080/",
          "height": 319,
          "referenced_widgets": [
            "4b2091e2706b413c87728c01bb615761",
            "d346cd70a4e045a08997864e0e4d668c",
            "28602fb827c44b29be847800d070c735",
            "05efe949e9ec4e8c868dac4eb642f0ab",
            "68cf0757e57c46fb96aa99d75b264636",
            "f9e0c92c42e740c989e04c96dff16669",
            "29170eaf68ca45d7a8b327f5d2979a68",
            "7b4329781eb64605837bffdc38eb29d7",
            "eeafe0b35c274f3a9fcd1df7d695548a",
            "52589bd601fb49c5a471a11e5e4b3cea",
            "d87e60d505c049039deaf81915fa44e5"
          ]
        },
        "outputId": "0017dcc4-0a25-4ae9-91e4-c9e9db209f23"
      },
      "outputs": [
        {
          "output_type": "stream",
          "name": "stderr",
          "text": [
            "/usr/local/lib/python3.7/dist-packages/pytorch_lightning/trainer/connectors/checkpoint_connector.py:52: LightningDeprecationWarning: Setting `Trainer(resume_from_checkpoint=)` is deprecated in v1.5 and will be removed in v1.7. Please pass `Trainer.fit(ckpt_path=)` directly instead.\n",
            "  \"Setting `Trainer(resume_from_checkpoint=)` is deprecated in v1.5 and\"\n",
            "GPU available: True, used: True\n",
            "TPU available: False, using: 0 TPU cores\n",
            "IPU available: False, using: 0 IPUs\n",
            "HPU available: False, using: 0 HPUs\n",
            "LOCAL_RANK: 0 - CUDA_VISIBLE_DEVICES: [0]\n"
          ]
        },
        {
          "output_type": "display_data",
          "data": {
            "text/plain": [
              "Testing: 0it [00:00, ?it/s]"
            ],
            "application/vnd.jupyter.widget-view+json": {
              "version_major": 2,
              "version_minor": 0,
              "model_id": "4b2091e2706b413c87728c01bb615761"
            }
          },
          "metadata": {}
        },
        {
          "output_type": "stream",
          "name": "stdout",
          "text": [
            "────────────────────────────────────────────────────────────────────────────────────────────────────────────────────────\n",
            "       Test metric             DataLoader 0\n",
            "────────────────────────────────────────────────────────────────────────────────────────────────────────────────────────\n",
            "        test_acc            0.7217391304347825\n",
            "        train_acc                  0.72\n",
            "────────────────────────────────────────────────────────────────────────────────────────────────────────────────────────\n"
          ]
        },
        {
          "output_type": "execute_result",
          "data": {
            "text/plain": [
              "[{'test_acc': 0.7217391304347825, 'train_acc': 0.72}]"
            ]
          },
          "metadata": {},
          "execution_count": 14
        }
      ],
      "source": [
        "set_seed(1234)\n",
        "\n",
        "model_gen_25 = MobileNet()\n",
        "trainer = create_trainer('./drive/MyDrive/checkpoints/', 'augmented-25_2') \n",
        "# trainer.fit(model_gen_25, train_dataloaders=dl_train_gen_25, val_dataloaders=dl_validation)\n",
        "model_gen_25 = MobileNet.load_from_checkpoint('./drive/MyDrive/checkpoints/augmented-25_2.ckpt')\n",
        "trainer.test(model_gen_25, dl_test)"
      ]
    },
    {
      "cell_type": "code",
      "source": [
        "# !rm -rf ./data_split/train_gen_75\n",
        "# !cp -r ./data_split/train ./data_split/train_gen_75\n",
        "\n",
        "# set_seed(1234)\n",
        "\n",
        "# print('Generating samples...')\n",
        "# generate_samples(Generator(), './data_split/train_gen_75', './drive/MyDrive/PESOS', gen_size=0.75)"
      ],
      "metadata": {
        "id": "FYvqwSdZXDBB"
      },
      "execution_count": null,
      "outputs": []
    },
    {
      "cell_type": "code",
      "source": [
        "# set_seed(1234)\n",
        "\n",
        "# ds_train_gen_75 = ImageFolder('./data_split/train_gen_75', transform=ds_transform)\n",
        "# dl_train_gen_75 = DataLoader(\n",
        "#     ds_train_gen_75, \n",
        "#     batch_size=batch_size, \n",
        "#     shuffle=True, \n",
        "#     num_workers=cpu_count()\n",
        "# )\n",
        "\n",
        "# print('# of training examples (with gen)', len(ds_train_gen_75))\n",
        "# print(next(iter(dl_train_gen_75))[0].size())"
      ],
      "metadata": {
        "id": "GvbKbjNAXUZN"
      },
      "execution_count": null,
      "outputs": []
    },
    {
      "cell_type": "code",
      "source": [
        "set_seed(1234)\n",
        "\n",
        "model_gen_75 = MobileNet()\n",
        "\n",
        "trainer = create_trainer('./drive/MyDrive/checkpoints/', 'augmented-75_2') \n",
        "# trainer.fit(model_gen_75, train_dataloaders=dl_train_gen_75, val_dataloaders=dl_validation)\n",
        "model_gen_75 = MobileNet.load_from_checkpoint('./drive/MyDrive/checkpoints/augmented-75_2.ckpt')\n",
        "trainer.test(model_gen_75, dl_test)"
      ],
      "metadata": {
        "id": "WNaog15xbS31",
        "colab": {
          "base_uri": "https://localhost:8080/",
          "height": 319,
          "referenced_widgets": [
            "ec37d2e5b3864b8894879a24c58c3c95",
            "e4ab8a42cb6d49d89c4644cec2bae4e6",
            "1cb644dd52fb47c78df72c6847d8019e",
            "f53ba8b2adca41c59755af62d7248dae",
            "a3ed95636a3e4fe0b936cacba8eb547a",
            "3396a2bd95124753afa0903ddb944385",
            "9959f22e25a24f2bae7f2456a105c40a",
            "bbc3e7c6d2be4b349c210e5cb04c1f54",
            "085e06d675224a57ad7909dfc6d1eb97",
            "4d9294f4ad51463fa130cb559fbb61bb",
            "bd0e4f4675ce442aba01041cf3a9587e"
          ]
        },
        "outputId": "fdd3f914-af35-4141-fa79-a12157c8d7c6"
      },
      "execution_count": null,
      "outputs": [
        {
          "output_type": "stream",
          "name": "stderr",
          "text": [
            "/usr/local/lib/python3.7/dist-packages/pytorch_lightning/trainer/connectors/checkpoint_connector.py:52: LightningDeprecationWarning: Setting `Trainer(resume_from_checkpoint=)` is deprecated in v1.5 and will be removed in v1.7. Please pass `Trainer.fit(ckpt_path=)` directly instead.\n",
            "  \"Setting `Trainer(resume_from_checkpoint=)` is deprecated in v1.5 and\"\n",
            "GPU available: True, used: True\n",
            "TPU available: False, using: 0 TPU cores\n",
            "IPU available: False, using: 0 IPUs\n",
            "HPU available: False, using: 0 HPUs\n",
            "LOCAL_RANK: 0 - CUDA_VISIBLE_DEVICES: [0]\n"
          ]
        },
        {
          "output_type": "display_data",
          "data": {
            "text/plain": [
              "Testing: 0it [00:00, ?it/s]"
            ],
            "application/vnd.jupyter.widget-view+json": {
              "version_major": 2,
              "version_minor": 0,
              "model_id": "ec37d2e5b3864b8894879a24c58c3c95"
            }
          },
          "metadata": {}
        },
        {
          "output_type": "stream",
          "name": "stdout",
          "text": [
            "────────────────────────────────────────────────────────────────────────────────────────────────────────────────────────\n",
            "       Test metric             DataLoader 0\n",
            "────────────────────────────────────────────────────────────────────────────────────────────────────────────────────────\n",
            "        test_acc            0.8369565217391303\n",
            "        train_acc           0.8444444444444444\n",
            "────────────────────────────────────────────────────────────────────────────────────────────────────────────────────────\n"
          ]
        },
        {
          "output_type": "execute_result",
          "data": {
            "text/plain": [
              "[{'test_acc': 0.8369565217391303, 'train_acc': 0.8444444444444444}]"
            ]
          },
          "metadata": {},
          "execution_count": 18
        }
      ]
    },
    {
      "cell_type": "code",
      "source": [
        "# !rm -rf ./data_split/train_gen_125\n",
        "# !cp -r ./data_split/train ./data_split/train_gen_125\n",
        "\n",
        "# set_seed(1234)\n",
        "\n",
        "# print('Generating samples...')\n",
        "# generate_samples(Generator(), './data_split/train_gen_125', './drive/MyDrive/PESOS', gen_size=1.25)"
      ],
      "metadata": {
        "id": "t48yrAz6MKTN"
      },
      "execution_count": null,
      "outputs": []
    },
    {
      "cell_type": "code",
      "source": [
        "# set_seed(1234)\n",
        "\n",
        "# ds_train_gen_125 = ImageFolder('./data_split/train_gen_125', transform=ds_transform)\n",
        "# dl_train_gen_125 = DataLoader(\n",
        "#     ds_train_gen_125, \n",
        "#     batch_size=batch_size, \n",
        "#     shuffle=True, \n",
        "#     num_workers=cpu_count()\n",
        "# )\n",
        "\n",
        "# print('# of training examples (with gen)', len(ds_train_gen_125))\n",
        "# print(next(iter(dl_train_gen_125))[0].size())"
      ],
      "metadata": {
        "id": "A-D_6of7Mc4i"
      },
      "execution_count": null,
      "outputs": []
    },
    {
      "cell_type": "code",
      "source": [
        "set_seed(1234)\n",
        "\n",
        "model_gen_125 = MobileNet()\n",
        "trainer = create_trainer('./drive/MyDrive/checkpoints/', 'augmented-125_2') \n",
        "# trainer.fit(model_gen_125, train_dataloaders=dl_train_gen_125, val_dataloaders=dl_validation)\n",
        "model_gen_125 = MobileNet.load_from_checkpoint('./drive/MyDrive/checkpoints/augmented-125.ckpt')\n",
        "trainer.test(model_gen_125, dl_test)"
      ],
      "metadata": {
        "id": "ssAeLD1KMtCn",
        "colab": {
          "base_uri": "https://localhost:8080/",
          "height": 319,
          "referenced_widgets": [
            "de2d477a70ee43b6a72afa028788fd5a",
            "d73fbf96e2314cc787cf39d11801f500",
            "180610e2daa941bf96c768f620e83cea",
            "b03bffb2c1964f658f3e399f72118a49",
            "ad1a7e6db6f641ffad3ae233ddd89c54",
            "3112d416fa68476d93b1b64b54e76fc1",
            "43313acd45854cbca664319cd4f05551",
            "595bc0b836af47c19ea93cb89f5aa76b",
            "654838b716a44b92b938da4d54d3a3ee",
            "f84f9eaa9d0843b584f11a09e72f7bfa",
            "e596f7deb8674ce6a1df304a0f7449c1"
          ]
        },
        "outputId": "c6548bda-513e-493d-f0b8-f0be3a874fd7"
      },
      "execution_count": null,
      "outputs": [
        {
          "output_type": "stream",
          "name": "stderr",
          "text": [
            "/usr/local/lib/python3.7/dist-packages/pytorch_lightning/trainer/connectors/checkpoint_connector.py:52: LightningDeprecationWarning: Setting `Trainer(resume_from_checkpoint=)` is deprecated in v1.5 and will be removed in v1.7. Please pass `Trainer.fit(ckpt_path=)` directly instead.\n",
            "  \"Setting `Trainer(resume_from_checkpoint=)` is deprecated in v1.5 and\"\n",
            "GPU available: True, used: True\n",
            "TPU available: False, using: 0 TPU cores\n",
            "IPU available: False, using: 0 IPUs\n",
            "HPU available: False, using: 0 HPUs\n",
            "LOCAL_RANK: 0 - CUDA_VISIBLE_DEVICES: [0]\n"
          ]
        },
        {
          "output_type": "display_data",
          "data": {
            "text/plain": [
              "Testing: 0it [00:00, ?it/s]"
            ],
            "application/vnd.jupyter.widget-view+json": {
              "version_major": 2,
              "version_minor": 0,
              "model_id": "de2d477a70ee43b6a72afa028788fd5a"
            }
          },
          "metadata": {}
        },
        {
          "output_type": "stream",
          "name": "stdout",
          "text": [
            "────────────────────────────────────────────────────────────────────────────────────────────────────────────────────────\n",
            "       Test metric             DataLoader 0\n",
            "────────────────────────────────────────────────────────────────────────────────────────────────────────────────────────\n",
            "        test_acc            0.8239130434782609\n",
            "        train_acc                  0.82\n",
            "────────────────────────────────────────────────────────────────────────────────────────────────────────────────────────\n"
          ]
        },
        {
          "output_type": "execute_result",
          "data": {
            "text/plain": [
              "[{'test_acc': 0.8239130434782609, 'train_acc': 0.82}]"
            ]
          },
          "metadata": {},
          "execution_count": 21
        }
      ]
    }
  ],
  "metadata": {
    "accelerator": "GPU",
    "colab": {
      "collapsed_sections": [],
      "machine_shape": "hm",
      "name": "Data Augmentation.ipynb",
      "provenance": []
    },
    "gpuClass": "standard",
    "kernelspec": {
      "display_name": "Python 3",
      "name": "python3"
    },
    "language_info": {
      "name": "python"
    },
    "widgets": {
      "application/vnd.jupyter.widget-state+json": {
        "b686ba2a00004a919d20b4d9b1cab947": {
          "model_module": "@jupyter-widgets/controls",
          "model_name": "HBoxModel",
          "model_module_version": "1.5.0",
          "state": {
            "_dom_classes": [],
            "_model_module": "@jupyter-widgets/controls",
            "_model_module_version": "1.5.0",
            "_model_name": "HBoxModel",
            "_view_count": null,
            "_view_module": "@jupyter-widgets/controls",
            "_view_module_version": "1.5.0",
            "_view_name": "HBoxView",
            "box_style": "",
            "children": [
              "IPY_MODEL_0b3503ad57aa4adfa450d7ab621bb11a",
              "IPY_MODEL_873123cc2f9f463fb7c709539656ec56",
              "IPY_MODEL_8b00a0cf6c6643ad97ce98d97963f5a8"
            ],
            "layout": "IPY_MODEL_696800ea091e4a41bc51177cdc74070c"
          }
        },
        "0b3503ad57aa4adfa450d7ab621bb11a": {
          "model_module": "@jupyter-widgets/controls",
          "model_name": "HTMLModel",
          "model_module_version": "1.5.0",
          "state": {
            "_dom_classes": [],
            "_model_module": "@jupyter-widgets/controls",
            "_model_module_version": "1.5.0",
            "_model_name": "HTMLModel",
            "_view_count": null,
            "_view_module": "@jupyter-widgets/controls",
            "_view_module_version": "1.5.0",
            "_view_name": "HTMLView",
            "description": "",
            "description_tooltip": null,
            "layout": "IPY_MODEL_07e1a5ed577646bd9abf5af2ec675721",
            "placeholder": "​",
            "style": "IPY_MODEL_cda21e625d364657be55c92c35147f91",
            "value": "Testing DataLoader 0: 100%"
          }
        },
        "873123cc2f9f463fb7c709539656ec56": {
          "model_module": "@jupyter-widgets/controls",
          "model_name": "FloatProgressModel",
          "model_module_version": "1.5.0",
          "state": {
            "_dom_classes": [],
            "_model_module": "@jupyter-widgets/controls",
            "_model_module_version": "1.5.0",
            "_model_name": "FloatProgressModel",
            "_view_count": null,
            "_view_module": "@jupyter-widgets/controls",
            "_view_module_version": "1.5.0",
            "_view_name": "ProgressView",
            "bar_style": "success",
            "description": "",
            "description_tooltip": null,
            "layout": "IPY_MODEL_4588b42bba594cb684f5b6bb1d38e0f8",
            "max": 23,
            "min": 0,
            "orientation": "horizontal",
            "style": "IPY_MODEL_0c1a0438cec04819bb64e1a0c1fcb3fc",
            "value": 23
          }
        },
        "8b00a0cf6c6643ad97ce98d97963f5a8": {
          "model_module": "@jupyter-widgets/controls",
          "model_name": "HTMLModel",
          "model_module_version": "1.5.0",
          "state": {
            "_dom_classes": [],
            "_model_module": "@jupyter-widgets/controls",
            "_model_module_version": "1.5.0",
            "_model_name": "HTMLModel",
            "_view_count": null,
            "_view_module": "@jupyter-widgets/controls",
            "_view_module_version": "1.5.0",
            "_view_name": "HTMLView",
            "description": "",
            "description_tooltip": null,
            "layout": "IPY_MODEL_cf29c82973564cdb91607cd35efff646",
            "placeholder": "​",
            "style": "IPY_MODEL_9d7399bbadb84354b99bf1b74413b4ca",
            "value": " 23/23 [00:56&lt;00:00,  2.20s/it]"
          }
        },
        "696800ea091e4a41bc51177cdc74070c": {
          "model_module": "@jupyter-widgets/base",
          "model_name": "LayoutModel",
          "model_module_version": "1.2.0",
          "state": {
            "_model_module": "@jupyter-widgets/base",
            "_model_module_version": "1.2.0",
            "_model_name": "LayoutModel",
            "_view_count": null,
            "_view_module": "@jupyter-widgets/base",
            "_view_module_version": "1.2.0",
            "_view_name": "LayoutView",
            "align_content": null,
            "align_items": null,
            "align_self": null,
            "border": null,
            "bottom": null,
            "display": "inline-flex",
            "flex": null,
            "flex_flow": "row wrap",
            "grid_area": null,
            "grid_auto_columns": null,
            "grid_auto_flow": null,
            "grid_auto_rows": null,
            "grid_column": null,
            "grid_gap": null,
            "grid_row": null,
            "grid_template_areas": null,
            "grid_template_columns": null,
            "grid_template_rows": null,
            "height": null,
            "justify_content": null,
            "justify_items": null,
            "left": null,
            "margin": null,
            "max_height": null,
            "max_width": null,
            "min_height": null,
            "min_width": null,
            "object_fit": null,
            "object_position": null,
            "order": null,
            "overflow": null,
            "overflow_x": null,
            "overflow_y": null,
            "padding": null,
            "right": null,
            "top": null,
            "visibility": null,
            "width": "100%"
          }
        },
        "07e1a5ed577646bd9abf5af2ec675721": {
          "model_module": "@jupyter-widgets/base",
          "model_name": "LayoutModel",
          "model_module_version": "1.2.0",
          "state": {
            "_model_module": "@jupyter-widgets/base",
            "_model_module_version": "1.2.0",
            "_model_name": "LayoutModel",
            "_view_count": null,
            "_view_module": "@jupyter-widgets/base",
            "_view_module_version": "1.2.0",
            "_view_name": "LayoutView",
            "align_content": null,
            "align_items": null,
            "align_self": null,
            "border": null,
            "bottom": null,
            "display": null,
            "flex": null,
            "flex_flow": null,
            "grid_area": null,
            "grid_auto_columns": null,
            "grid_auto_flow": null,
            "grid_auto_rows": null,
            "grid_column": null,
            "grid_gap": null,
            "grid_row": null,
            "grid_template_areas": null,
            "grid_template_columns": null,
            "grid_template_rows": null,
            "height": null,
            "justify_content": null,
            "justify_items": null,
            "left": null,
            "margin": null,
            "max_height": null,
            "max_width": null,
            "min_height": null,
            "min_width": null,
            "object_fit": null,
            "object_position": null,
            "order": null,
            "overflow": null,
            "overflow_x": null,
            "overflow_y": null,
            "padding": null,
            "right": null,
            "top": null,
            "visibility": null,
            "width": null
          }
        },
        "cda21e625d364657be55c92c35147f91": {
          "model_module": "@jupyter-widgets/controls",
          "model_name": "DescriptionStyleModel",
          "model_module_version": "1.5.0",
          "state": {
            "_model_module": "@jupyter-widgets/controls",
            "_model_module_version": "1.5.0",
            "_model_name": "DescriptionStyleModel",
            "_view_count": null,
            "_view_module": "@jupyter-widgets/base",
            "_view_module_version": "1.2.0",
            "_view_name": "StyleView",
            "description_width": ""
          }
        },
        "4588b42bba594cb684f5b6bb1d38e0f8": {
          "model_module": "@jupyter-widgets/base",
          "model_name": "LayoutModel",
          "model_module_version": "1.2.0",
          "state": {
            "_model_module": "@jupyter-widgets/base",
            "_model_module_version": "1.2.0",
            "_model_name": "LayoutModel",
            "_view_count": null,
            "_view_module": "@jupyter-widgets/base",
            "_view_module_version": "1.2.0",
            "_view_name": "LayoutView",
            "align_content": null,
            "align_items": null,
            "align_self": null,
            "border": null,
            "bottom": null,
            "display": null,
            "flex": "2",
            "flex_flow": null,
            "grid_area": null,
            "grid_auto_columns": null,
            "grid_auto_flow": null,
            "grid_auto_rows": null,
            "grid_column": null,
            "grid_gap": null,
            "grid_row": null,
            "grid_template_areas": null,
            "grid_template_columns": null,
            "grid_template_rows": null,
            "height": null,
            "justify_content": null,
            "justify_items": null,
            "left": null,
            "margin": null,
            "max_height": null,
            "max_width": null,
            "min_height": null,
            "min_width": null,
            "object_fit": null,
            "object_position": null,
            "order": null,
            "overflow": null,
            "overflow_x": null,
            "overflow_y": null,
            "padding": null,
            "right": null,
            "top": null,
            "visibility": null,
            "width": null
          }
        },
        "0c1a0438cec04819bb64e1a0c1fcb3fc": {
          "model_module": "@jupyter-widgets/controls",
          "model_name": "ProgressStyleModel",
          "model_module_version": "1.5.0",
          "state": {
            "_model_module": "@jupyter-widgets/controls",
            "_model_module_version": "1.5.0",
            "_model_name": "ProgressStyleModel",
            "_view_count": null,
            "_view_module": "@jupyter-widgets/base",
            "_view_module_version": "1.2.0",
            "_view_name": "StyleView",
            "bar_color": null,
            "description_width": ""
          }
        },
        "cf29c82973564cdb91607cd35efff646": {
          "model_module": "@jupyter-widgets/base",
          "model_name": "LayoutModel",
          "model_module_version": "1.2.0",
          "state": {
            "_model_module": "@jupyter-widgets/base",
            "_model_module_version": "1.2.0",
            "_model_name": "LayoutModel",
            "_view_count": null,
            "_view_module": "@jupyter-widgets/base",
            "_view_module_version": "1.2.0",
            "_view_name": "LayoutView",
            "align_content": null,
            "align_items": null,
            "align_self": null,
            "border": null,
            "bottom": null,
            "display": null,
            "flex": null,
            "flex_flow": null,
            "grid_area": null,
            "grid_auto_columns": null,
            "grid_auto_flow": null,
            "grid_auto_rows": null,
            "grid_column": null,
            "grid_gap": null,
            "grid_row": null,
            "grid_template_areas": null,
            "grid_template_columns": null,
            "grid_template_rows": null,
            "height": null,
            "justify_content": null,
            "justify_items": null,
            "left": null,
            "margin": null,
            "max_height": null,
            "max_width": null,
            "min_height": null,
            "min_width": null,
            "object_fit": null,
            "object_position": null,
            "order": null,
            "overflow": null,
            "overflow_x": null,
            "overflow_y": null,
            "padding": null,
            "right": null,
            "top": null,
            "visibility": null,
            "width": null
          }
        },
        "9d7399bbadb84354b99bf1b74413b4ca": {
          "model_module": "@jupyter-widgets/controls",
          "model_name": "DescriptionStyleModel",
          "model_module_version": "1.5.0",
          "state": {
            "_model_module": "@jupyter-widgets/controls",
            "_model_module_version": "1.5.0",
            "_model_name": "DescriptionStyleModel",
            "_view_count": null,
            "_view_module": "@jupyter-widgets/base",
            "_view_module_version": "1.2.0",
            "_view_name": "StyleView",
            "description_width": ""
          }
        },
        "4b2091e2706b413c87728c01bb615761": {
          "model_module": "@jupyter-widgets/controls",
          "model_name": "HBoxModel",
          "model_module_version": "1.5.0",
          "state": {
            "_dom_classes": [],
            "_model_module": "@jupyter-widgets/controls",
            "_model_module_version": "1.5.0",
            "_model_name": "HBoxModel",
            "_view_count": null,
            "_view_module": "@jupyter-widgets/controls",
            "_view_module_version": "1.5.0",
            "_view_name": "HBoxView",
            "box_style": "",
            "children": [
              "IPY_MODEL_d346cd70a4e045a08997864e0e4d668c",
              "IPY_MODEL_28602fb827c44b29be847800d070c735",
              "IPY_MODEL_05efe949e9ec4e8c868dac4eb642f0ab"
            ],
            "layout": "IPY_MODEL_68cf0757e57c46fb96aa99d75b264636"
          }
        },
        "d346cd70a4e045a08997864e0e4d668c": {
          "model_module": "@jupyter-widgets/controls",
          "model_name": "HTMLModel",
          "model_module_version": "1.5.0",
          "state": {
            "_dom_classes": [],
            "_model_module": "@jupyter-widgets/controls",
            "_model_module_version": "1.5.0",
            "_model_name": "HTMLModel",
            "_view_count": null,
            "_view_module": "@jupyter-widgets/controls",
            "_view_module_version": "1.5.0",
            "_view_name": "HTMLView",
            "description": "",
            "description_tooltip": null,
            "layout": "IPY_MODEL_f9e0c92c42e740c989e04c96dff16669",
            "placeholder": "​",
            "style": "IPY_MODEL_29170eaf68ca45d7a8b327f5d2979a68",
            "value": "Testing DataLoader 0: 100%"
          }
        },
        "28602fb827c44b29be847800d070c735": {
          "model_module": "@jupyter-widgets/controls",
          "model_name": "FloatProgressModel",
          "model_module_version": "1.5.0",
          "state": {
            "_dom_classes": [],
            "_model_module": "@jupyter-widgets/controls",
            "_model_module_version": "1.5.0",
            "_model_name": "FloatProgressModel",
            "_view_count": null,
            "_view_module": "@jupyter-widgets/controls",
            "_view_module_version": "1.5.0",
            "_view_name": "ProgressView",
            "bar_style": "success",
            "description": "",
            "description_tooltip": null,
            "layout": "IPY_MODEL_7b4329781eb64605837bffdc38eb29d7",
            "max": 23,
            "min": 0,
            "orientation": "horizontal",
            "style": "IPY_MODEL_eeafe0b35c274f3a9fcd1df7d695548a",
            "value": 23
          }
        },
        "05efe949e9ec4e8c868dac4eb642f0ab": {
          "model_module": "@jupyter-widgets/controls",
          "model_name": "HTMLModel",
          "model_module_version": "1.5.0",
          "state": {
            "_dom_classes": [],
            "_model_module": "@jupyter-widgets/controls",
            "_model_module_version": "1.5.0",
            "_model_name": "HTMLModel",
            "_view_count": null,
            "_view_module": "@jupyter-widgets/controls",
            "_view_module_version": "1.5.0",
            "_view_name": "HTMLView",
            "description": "",
            "description_tooltip": null,
            "layout": "IPY_MODEL_52589bd601fb49c5a471a11e5e4b3cea",
            "placeholder": "​",
            "style": "IPY_MODEL_d87e60d505c049039deaf81915fa44e5",
            "value": " 23/23 [00:48&lt;00:00,  2.13s/it]"
          }
        },
        "68cf0757e57c46fb96aa99d75b264636": {
          "model_module": "@jupyter-widgets/base",
          "model_name": "LayoutModel",
          "model_module_version": "1.2.0",
          "state": {
            "_model_module": "@jupyter-widgets/base",
            "_model_module_version": "1.2.0",
            "_model_name": "LayoutModel",
            "_view_count": null,
            "_view_module": "@jupyter-widgets/base",
            "_view_module_version": "1.2.0",
            "_view_name": "LayoutView",
            "align_content": null,
            "align_items": null,
            "align_self": null,
            "border": null,
            "bottom": null,
            "display": "inline-flex",
            "flex": null,
            "flex_flow": "row wrap",
            "grid_area": null,
            "grid_auto_columns": null,
            "grid_auto_flow": null,
            "grid_auto_rows": null,
            "grid_column": null,
            "grid_gap": null,
            "grid_row": null,
            "grid_template_areas": null,
            "grid_template_columns": null,
            "grid_template_rows": null,
            "height": null,
            "justify_content": null,
            "justify_items": null,
            "left": null,
            "margin": null,
            "max_height": null,
            "max_width": null,
            "min_height": null,
            "min_width": null,
            "object_fit": null,
            "object_position": null,
            "order": null,
            "overflow": null,
            "overflow_x": null,
            "overflow_y": null,
            "padding": null,
            "right": null,
            "top": null,
            "visibility": null,
            "width": "100%"
          }
        },
        "f9e0c92c42e740c989e04c96dff16669": {
          "model_module": "@jupyter-widgets/base",
          "model_name": "LayoutModel",
          "model_module_version": "1.2.0",
          "state": {
            "_model_module": "@jupyter-widgets/base",
            "_model_module_version": "1.2.0",
            "_model_name": "LayoutModel",
            "_view_count": null,
            "_view_module": "@jupyter-widgets/base",
            "_view_module_version": "1.2.0",
            "_view_name": "LayoutView",
            "align_content": null,
            "align_items": null,
            "align_self": null,
            "border": null,
            "bottom": null,
            "display": null,
            "flex": null,
            "flex_flow": null,
            "grid_area": null,
            "grid_auto_columns": null,
            "grid_auto_flow": null,
            "grid_auto_rows": null,
            "grid_column": null,
            "grid_gap": null,
            "grid_row": null,
            "grid_template_areas": null,
            "grid_template_columns": null,
            "grid_template_rows": null,
            "height": null,
            "justify_content": null,
            "justify_items": null,
            "left": null,
            "margin": null,
            "max_height": null,
            "max_width": null,
            "min_height": null,
            "min_width": null,
            "object_fit": null,
            "object_position": null,
            "order": null,
            "overflow": null,
            "overflow_x": null,
            "overflow_y": null,
            "padding": null,
            "right": null,
            "top": null,
            "visibility": null,
            "width": null
          }
        },
        "29170eaf68ca45d7a8b327f5d2979a68": {
          "model_module": "@jupyter-widgets/controls",
          "model_name": "DescriptionStyleModel",
          "model_module_version": "1.5.0",
          "state": {
            "_model_module": "@jupyter-widgets/controls",
            "_model_module_version": "1.5.0",
            "_model_name": "DescriptionStyleModel",
            "_view_count": null,
            "_view_module": "@jupyter-widgets/base",
            "_view_module_version": "1.2.0",
            "_view_name": "StyleView",
            "description_width": ""
          }
        },
        "7b4329781eb64605837bffdc38eb29d7": {
          "model_module": "@jupyter-widgets/base",
          "model_name": "LayoutModel",
          "model_module_version": "1.2.0",
          "state": {
            "_model_module": "@jupyter-widgets/base",
            "_model_module_version": "1.2.0",
            "_model_name": "LayoutModel",
            "_view_count": null,
            "_view_module": "@jupyter-widgets/base",
            "_view_module_version": "1.2.0",
            "_view_name": "LayoutView",
            "align_content": null,
            "align_items": null,
            "align_self": null,
            "border": null,
            "bottom": null,
            "display": null,
            "flex": "2",
            "flex_flow": null,
            "grid_area": null,
            "grid_auto_columns": null,
            "grid_auto_flow": null,
            "grid_auto_rows": null,
            "grid_column": null,
            "grid_gap": null,
            "grid_row": null,
            "grid_template_areas": null,
            "grid_template_columns": null,
            "grid_template_rows": null,
            "height": null,
            "justify_content": null,
            "justify_items": null,
            "left": null,
            "margin": null,
            "max_height": null,
            "max_width": null,
            "min_height": null,
            "min_width": null,
            "object_fit": null,
            "object_position": null,
            "order": null,
            "overflow": null,
            "overflow_x": null,
            "overflow_y": null,
            "padding": null,
            "right": null,
            "top": null,
            "visibility": null,
            "width": null
          }
        },
        "eeafe0b35c274f3a9fcd1df7d695548a": {
          "model_module": "@jupyter-widgets/controls",
          "model_name": "ProgressStyleModel",
          "model_module_version": "1.5.0",
          "state": {
            "_model_module": "@jupyter-widgets/controls",
            "_model_module_version": "1.5.0",
            "_model_name": "ProgressStyleModel",
            "_view_count": null,
            "_view_module": "@jupyter-widgets/base",
            "_view_module_version": "1.2.0",
            "_view_name": "StyleView",
            "bar_color": null,
            "description_width": ""
          }
        },
        "52589bd601fb49c5a471a11e5e4b3cea": {
          "model_module": "@jupyter-widgets/base",
          "model_name": "LayoutModel",
          "model_module_version": "1.2.0",
          "state": {
            "_model_module": "@jupyter-widgets/base",
            "_model_module_version": "1.2.0",
            "_model_name": "LayoutModel",
            "_view_count": null,
            "_view_module": "@jupyter-widgets/base",
            "_view_module_version": "1.2.0",
            "_view_name": "LayoutView",
            "align_content": null,
            "align_items": null,
            "align_self": null,
            "border": null,
            "bottom": null,
            "display": null,
            "flex": null,
            "flex_flow": null,
            "grid_area": null,
            "grid_auto_columns": null,
            "grid_auto_flow": null,
            "grid_auto_rows": null,
            "grid_column": null,
            "grid_gap": null,
            "grid_row": null,
            "grid_template_areas": null,
            "grid_template_columns": null,
            "grid_template_rows": null,
            "height": null,
            "justify_content": null,
            "justify_items": null,
            "left": null,
            "margin": null,
            "max_height": null,
            "max_width": null,
            "min_height": null,
            "min_width": null,
            "object_fit": null,
            "object_position": null,
            "order": null,
            "overflow": null,
            "overflow_x": null,
            "overflow_y": null,
            "padding": null,
            "right": null,
            "top": null,
            "visibility": null,
            "width": null
          }
        },
        "d87e60d505c049039deaf81915fa44e5": {
          "model_module": "@jupyter-widgets/controls",
          "model_name": "DescriptionStyleModel",
          "model_module_version": "1.5.0",
          "state": {
            "_model_module": "@jupyter-widgets/controls",
            "_model_module_version": "1.5.0",
            "_model_name": "DescriptionStyleModel",
            "_view_count": null,
            "_view_module": "@jupyter-widgets/base",
            "_view_module_version": "1.2.0",
            "_view_name": "StyleView",
            "description_width": ""
          }
        },
        "ec37d2e5b3864b8894879a24c58c3c95": {
          "model_module": "@jupyter-widgets/controls",
          "model_name": "HBoxModel",
          "model_module_version": "1.5.0",
          "state": {
            "_dom_classes": [],
            "_model_module": "@jupyter-widgets/controls",
            "_model_module_version": "1.5.0",
            "_model_name": "HBoxModel",
            "_view_count": null,
            "_view_module": "@jupyter-widgets/controls",
            "_view_module_version": "1.5.0",
            "_view_name": "HBoxView",
            "box_style": "",
            "children": [
              "IPY_MODEL_e4ab8a42cb6d49d89c4644cec2bae4e6",
              "IPY_MODEL_1cb644dd52fb47c78df72c6847d8019e",
              "IPY_MODEL_f53ba8b2adca41c59755af62d7248dae"
            ],
            "layout": "IPY_MODEL_a3ed95636a3e4fe0b936cacba8eb547a"
          }
        },
        "e4ab8a42cb6d49d89c4644cec2bae4e6": {
          "model_module": "@jupyter-widgets/controls",
          "model_name": "HTMLModel",
          "model_module_version": "1.5.0",
          "state": {
            "_dom_classes": [],
            "_model_module": "@jupyter-widgets/controls",
            "_model_module_version": "1.5.0",
            "_model_name": "HTMLModel",
            "_view_count": null,
            "_view_module": "@jupyter-widgets/controls",
            "_view_module_version": "1.5.0",
            "_view_name": "HTMLView",
            "description": "",
            "description_tooltip": null,
            "layout": "IPY_MODEL_3396a2bd95124753afa0903ddb944385",
            "placeholder": "​",
            "style": "IPY_MODEL_9959f22e25a24f2bae7f2456a105c40a",
            "value": "Testing DataLoader 0: 100%"
          }
        },
        "1cb644dd52fb47c78df72c6847d8019e": {
          "model_module": "@jupyter-widgets/controls",
          "model_name": "FloatProgressModel",
          "model_module_version": "1.5.0",
          "state": {
            "_dom_classes": [],
            "_model_module": "@jupyter-widgets/controls",
            "_model_module_version": "1.5.0",
            "_model_name": "FloatProgressModel",
            "_view_count": null,
            "_view_module": "@jupyter-widgets/controls",
            "_view_module_version": "1.5.0",
            "_view_name": "ProgressView",
            "bar_style": "success",
            "description": "",
            "description_tooltip": null,
            "layout": "IPY_MODEL_bbc3e7c6d2be4b349c210e5cb04c1f54",
            "max": 23,
            "min": 0,
            "orientation": "horizontal",
            "style": "IPY_MODEL_085e06d675224a57ad7909dfc6d1eb97",
            "value": 23
          }
        },
        "f53ba8b2adca41c59755af62d7248dae": {
          "model_module": "@jupyter-widgets/controls",
          "model_name": "HTMLModel",
          "model_module_version": "1.5.0",
          "state": {
            "_dom_classes": [],
            "_model_module": "@jupyter-widgets/controls",
            "_model_module_version": "1.5.0",
            "_model_name": "HTMLModel",
            "_view_count": null,
            "_view_module": "@jupyter-widgets/controls",
            "_view_module_version": "1.5.0",
            "_view_name": "HTMLView",
            "description": "",
            "description_tooltip": null,
            "layout": "IPY_MODEL_4d9294f4ad51463fa130cb559fbb61bb",
            "placeholder": "​",
            "style": "IPY_MODEL_bd0e4f4675ce442aba01041cf3a9587e",
            "value": " 23/23 [00:49&lt;00:00,  2.17s/it]"
          }
        },
        "a3ed95636a3e4fe0b936cacba8eb547a": {
          "model_module": "@jupyter-widgets/base",
          "model_name": "LayoutModel",
          "model_module_version": "1.2.0",
          "state": {
            "_model_module": "@jupyter-widgets/base",
            "_model_module_version": "1.2.0",
            "_model_name": "LayoutModel",
            "_view_count": null,
            "_view_module": "@jupyter-widgets/base",
            "_view_module_version": "1.2.0",
            "_view_name": "LayoutView",
            "align_content": null,
            "align_items": null,
            "align_self": null,
            "border": null,
            "bottom": null,
            "display": "inline-flex",
            "flex": null,
            "flex_flow": "row wrap",
            "grid_area": null,
            "grid_auto_columns": null,
            "grid_auto_flow": null,
            "grid_auto_rows": null,
            "grid_column": null,
            "grid_gap": null,
            "grid_row": null,
            "grid_template_areas": null,
            "grid_template_columns": null,
            "grid_template_rows": null,
            "height": null,
            "justify_content": null,
            "justify_items": null,
            "left": null,
            "margin": null,
            "max_height": null,
            "max_width": null,
            "min_height": null,
            "min_width": null,
            "object_fit": null,
            "object_position": null,
            "order": null,
            "overflow": null,
            "overflow_x": null,
            "overflow_y": null,
            "padding": null,
            "right": null,
            "top": null,
            "visibility": null,
            "width": "100%"
          }
        },
        "3396a2bd95124753afa0903ddb944385": {
          "model_module": "@jupyter-widgets/base",
          "model_name": "LayoutModel",
          "model_module_version": "1.2.0",
          "state": {
            "_model_module": "@jupyter-widgets/base",
            "_model_module_version": "1.2.0",
            "_model_name": "LayoutModel",
            "_view_count": null,
            "_view_module": "@jupyter-widgets/base",
            "_view_module_version": "1.2.0",
            "_view_name": "LayoutView",
            "align_content": null,
            "align_items": null,
            "align_self": null,
            "border": null,
            "bottom": null,
            "display": null,
            "flex": null,
            "flex_flow": null,
            "grid_area": null,
            "grid_auto_columns": null,
            "grid_auto_flow": null,
            "grid_auto_rows": null,
            "grid_column": null,
            "grid_gap": null,
            "grid_row": null,
            "grid_template_areas": null,
            "grid_template_columns": null,
            "grid_template_rows": null,
            "height": null,
            "justify_content": null,
            "justify_items": null,
            "left": null,
            "margin": null,
            "max_height": null,
            "max_width": null,
            "min_height": null,
            "min_width": null,
            "object_fit": null,
            "object_position": null,
            "order": null,
            "overflow": null,
            "overflow_x": null,
            "overflow_y": null,
            "padding": null,
            "right": null,
            "top": null,
            "visibility": null,
            "width": null
          }
        },
        "9959f22e25a24f2bae7f2456a105c40a": {
          "model_module": "@jupyter-widgets/controls",
          "model_name": "DescriptionStyleModel",
          "model_module_version": "1.5.0",
          "state": {
            "_model_module": "@jupyter-widgets/controls",
            "_model_module_version": "1.5.0",
            "_model_name": "DescriptionStyleModel",
            "_view_count": null,
            "_view_module": "@jupyter-widgets/base",
            "_view_module_version": "1.2.0",
            "_view_name": "StyleView",
            "description_width": ""
          }
        },
        "bbc3e7c6d2be4b349c210e5cb04c1f54": {
          "model_module": "@jupyter-widgets/base",
          "model_name": "LayoutModel",
          "model_module_version": "1.2.0",
          "state": {
            "_model_module": "@jupyter-widgets/base",
            "_model_module_version": "1.2.0",
            "_model_name": "LayoutModel",
            "_view_count": null,
            "_view_module": "@jupyter-widgets/base",
            "_view_module_version": "1.2.0",
            "_view_name": "LayoutView",
            "align_content": null,
            "align_items": null,
            "align_self": null,
            "border": null,
            "bottom": null,
            "display": null,
            "flex": "2",
            "flex_flow": null,
            "grid_area": null,
            "grid_auto_columns": null,
            "grid_auto_flow": null,
            "grid_auto_rows": null,
            "grid_column": null,
            "grid_gap": null,
            "grid_row": null,
            "grid_template_areas": null,
            "grid_template_columns": null,
            "grid_template_rows": null,
            "height": null,
            "justify_content": null,
            "justify_items": null,
            "left": null,
            "margin": null,
            "max_height": null,
            "max_width": null,
            "min_height": null,
            "min_width": null,
            "object_fit": null,
            "object_position": null,
            "order": null,
            "overflow": null,
            "overflow_x": null,
            "overflow_y": null,
            "padding": null,
            "right": null,
            "top": null,
            "visibility": null,
            "width": null
          }
        },
        "085e06d675224a57ad7909dfc6d1eb97": {
          "model_module": "@jupyter-widgets/controls",
          "model_name": "ProgressStyleModel",
          "model_module_version": "1.5.0",
          "state": {
            "_model_module": "@jupyter-widgets/controls",
            "_model_module_version": "1.5.0",
            "_model_name": "ProgressStyleModel",
            "_view_count": null,
            "_view_module": "@jupyter-widgets/base",
            "_view_module_version": "1.2.0",
            "_view_name": "StyleView",
            "bar_color": null,
            "description_width": ""
          }
        },
        "4d9294f4ad51463fa130cb559fbb61bb": {
          "model_module": "@jupyter-widgets/base",
          "model_name": "LayoutModel",
          "model_module_version": "1.2.0",
          "state": {
            "_model_module": "@jupyter-widgets/base",
            "_model_module_version": "1.2.0",
            "_model_name": "LayoutModel",
            "_view_count": null,
            "_view_module": "@jupyter-widgets/base",
            "_view_module_version": "1.2.0",
            "_view_name": "LayoutView",
            "align_content": null,
            "align_items": null,
            "align_self": null,
            "border": null,
            "bottom": null,
            "display": null,
            "flex": null,
            "flex_flow": null,
            "grid_area": null,
            "grid_auto_columns": null,
            "grid_auto_flow": null,
            "grid_auto_rows": null,
            "grid_column": null,
            "grid_gap": null,
            "grid_row": null,
            "grid_template_areas": null,
            "grid_template_columns": null,
            "grid_template_rows": null,
            "height": null,
            "justify_content": null,
            "justify_items": null,
            "left": null,
            "margin": null,
            "max_height": null,
            "max_width": null,
            "min_height": null,
            "min_width": null,
            "object_fit": null,
            "object_position": null,
            "order": null,
            "overflow": null,
            "overflow_x": null,
            "overflow_y": null,
            "padding": null,
            "right": null,
            "top": null,
            "visibility": null,
            "width": null
          }
        },
        "bd0e4f4675ce442aba01041cf3a9587e": {
          "model_module": "@jupyter-widgets/controls",
          "model_name": "DescriptionStyleModel",
          "model_module_version": "1.5.0",
          "state": {
            "_model_module": "@jupyter-widgets/controls",
            "_model_module_version": "1.5.0",
            "_model_name": "DescriptionStyleModel",
            "_view_count": null,
            "_view_module": "@jupyter-widgets/base",
            "_view_module_version": "1.2.0",
            "_view_name": "StyleView",
            "description_width": ""
          }
        },
        "de2d477a70ee43b6a72afa028788fd5a": {
          "model_module": "@jupyter-widgets/controls",
          "model_name": "HBoxModel",
          "model_module_version": "1.5.0",
          "state": {
            "_dom_classes": [],
            "_model_module": "@jupyter-widgets/controls",
            "_model_module_version": "1.5.0",
            "_model_name": "HBoxModel",
            "_view_count": null,
            "_view_module": "@jupyter-widgets/controls",
            "_view_module_version": "1.5.0",
            "_view_name": "HBoxView",
            "box_style": "",
            "children": [
              "IPY_MODEL_d73fbf96e2314cc787cf39d11801f500",
              "IPY_MODEL_180610e2daa941bf96c768f620e83cea",
              "IPY_MODEL_b03bffb2c1964f658f3e399f72118a49"
            ],
            "layout": "IPY_MODEL_ad1a7e6db6f641ffad3ae233ddd89c54"
          }
        },
        "d73fbf96e2314cc787cf39d11801f500": {
          "model_module": "@jupyter-widgets/controls",
          "model_name": "HTMLModel",
          "model_module_version": "1.5.0",
          "state": {
            "_dom_classes": [],
            "_model_module": "@jupyter-widgets/controls",
            "_model_module_version": "1.5.0",
            "_model_name": "HTMLModel",
            "_view_count": null,
            "_view_module": "@jupyter-widgets/controls",
            "_view_module_version": "1.5.0",
            "_view_name": "HTMLView",
            "description": "",
            "description_tooltip": null,
            "layout": "IPY_MODEL_3112d416fa68476d93b1b64b54e76fc1",
            "placeholder": "​",
            "style": "IPY_MODEL_43313acd45854cbca664319cd4f05551",
            "value": "Testing DataLoader 0: 100%"
          }
        },
        "180610e2daa941bf96c768f620e83cea": {
          "model_module": "@jupyter-widgets/controls",
          "model_name": "FloatProgressModel",
          "model_module_version": "1.5.0",
          "state": {
            "_dom_classes": [],
            "_model_module": "@jupyter-widgets/controls",
            "_model_module_version": "1.5.0",
            "_model_name": "FloatProgressModel",
            "_view_count": null,
            "_view_module": "@jupyter-widgets/controls",
            "_view_module_version": "1.5.0",
            "_view_name": "ProgressView",
            "bar_style": "success",
            "description": "",
            "description_tooltip": null,
            "layout": "IPY_MODEL_595bc0b836af47c19ea93cb89f5aa76b",
            "max": 23,
            "min": 0,
            "orientation": "horizontal",
            "style": "IPY_MODEL_654838b716a44b92b938da4d54d3a3ee",
            "value": 23
          }
        },
        "b03bffb2c1964f658f3e399f72118a49": {
          "model_module": "@jupyter-widgets/controls",
          "model_name": "HTMLModel",
          "model_module_version": "1.5.0",
          "state": {
            "_dom_classes": [],
            "_model_module": "@jupyter-widgets/controls",
            "_model_module_version": "1.5.0",
            "_model_name": "HTMLModel",
            "_view_count": null,
            "_view_module": "@jupyter-widgets/controls",
            "_view_module_version": "1.5.0",
            "_view_name": "HTMLView",
            "description": "",
            "description_tooltip": null,
            "layout": "IPY_MODEL_f84f9eaa9d0843b584f11a09e72f7bfa",
            "placeholder": "​",
            "style": "IPY_MODEL_e596f7deb8674ce6a1df304a0f7449c1",
            "value": " 23/23 [00:49&lt;00:00,  2.15s/it]"
          }
        },
        "ad1a7e6db6f641ffad3ae233ddd89c54": {
          "model_module": "@jupyter-widgets/base",
          "model_name": "LayoutModel",
          "model_module_version": "1.2.0",
          "state": {
            "_model_module": "@jupyter-widgets/base",
            "_model_module_version": "1.2.0",
            "_model_name": "LayoutModel",
            "_view_count": null,
            "_view_module": "@jupyter-widgets/base",
            "_view_module_version": "1.2.0",
            "_view_name": "LayoutView",
            "align_content": null,
            "align_items": null,
            "align_self": null,
            "border": null,
            "bottom": null,
            "display": "inline-flex",
            "flex": null,
            "flex_flow": "row wrap",
            "grid_area": null,
            "grid_auto_columns": null,
            "grid_auto_flow": null,
            "grid_auto_rows": null,
            "grid_column": null,
            "grid_gap": null,
            "grid_row": null,
            "grid_template_areas": null,
            "grid_template_columns": null,
            "grid_template_rows": null,
            "height": null,
            "justify_content": null,
            "justify_items": null,
            "left": null,
            "margin": null,
            "max_height": null,
            "max_width": null,
            "min_height": null,
            "min_width": null,
            "object_fit": null,
            "object_position": null,
            "order": null,
            "overflow": null,
            "overflow_x": null,
            "overflow_y": null,
            "padding": null,
            "right": null,
            "top": null,
            "visibility": null,
            "width": "100%"
          }
        },
        "3112d416fa68476d93b1b64b54e76fc1": {
          "model_module": "@jupyter-widgets/base",
          "model_name": "LayoutModel",
          "model_module_version": "1.2.0",
          "state": {
            "_model_module": "@jupyter-widgets/base",
            "_model_module_version": "1.2.0",
            "_model_name": "LayoutModel",
            "_view_count": null,
            "_view_module": "@jupyter-widgets/base",
            "_view_module_version": "1.2.0",
            "_view_name": "LayoutView",
            "align_content": null,
            "align_items": null,
            "align_self": null,
            "border": null,
            "bottom": null,
            "display": null,
            "flex": null,
            "flex_flow": null,
            "grid_area": null,
            "grid_auto_columns": null,
            "grid_auto_flow": null,
            "grid_auto_rows": null,
            "grid_column": null,
            "grid_gap": null,
            "grid_row": null,
            "grid_template_areas": null,
            "grid_template_columns": null,
            "grid_template_rows": null,
            "height": null,
            "justify_content": null,
            "justify_items": null,
            "left": null,
            "margin": null,
            "max_height": null,
            "max_width": null,
            "min_height": null,
            "min_width": null,
            "object_fit": null,
            "object_position": null,
            "order": null,
            "overflow": null,
            "overflow_x": null,
            "overflow_y": null,
            "padding": null,
            "right": null,
            "top": null,
            "visibility": null,
            "width": null
          }
        },
        "43313acd45854cbca664319cd4f05551": {
          "model_module": "@jupyter-widgets/controls",
          "model_name": "DescriptionStyleModel",
          "model_module_version": "1.5.0",
          "state": {
            "_model_module": "@jupyter-widgets/controls",
            "_model_module_version": "1.5.0",
            "_model_name": "DescriptionStyleModel",
            "_view_count": null,
            "_view_module": "@jupyter-widgets/base",
            "_view_module_version": "1.2.0",
            "_view_name": "StyleView",
            "description_width": ""
          }
        },
        "595bc0b836af47c19ea93cb89f5aa76b": {
          "model_module": "@jupyter-widgets/base",
          "model_name": "LayoutModel",
          "model_module_version": "1.2.0",
          "state": {
            "_model_module": "@jupyter-widgets/base",
            "_model_module_version": "1.2.0",
            "_model_name": "LayoutModel",
            "_view_count": null,
            "_view_module": "@jupyter-widgets/base",
            "_view_module_version": "1.2.0",
            "_view_name": "LayoutView",
            "align_content": null,
            "align_items": null,
            "align_self": null,
            "border": null,
            "bottom": null,
            "display": null,
            "flex": "2",
            "flex_flow": null,
            "grid_area": null,
            "grid_auto_columns": null,
            "grid_auto_flow": null,
            "grid_auto_rows": null,
            "grid_column": null,
            "grid_gap": null,
            "grid_row": null,
            "grid_template_areas": null,
            "grid_template_columns": null,
            "grid_template_rows": null,
            "height": null,
            "justify_content": null,
            "justify_items": null,
            "left": null,
            "margin": null,
            "max_height": null,
            "max_width": null,
            "min_height": null,
            "min_width": null,
            "object_fit": null,
            "object_position": null,
            "order": null,
            "overflow": null,
            "overflow_x": null,
            "overflow_y": null,
            "padding": null,
            "right": null,
            "top": null,
            "visibility": null,
            "width": null
          }
        },
        "654838b716a44b92b938da4d54d3a3ee": {
          "model_module": "@jupyter-widgets/controls",
          "model_name": "ProgressStyleModel",
          "model_module_version": "1.5.0",
          "state": {
            "_model_module": "@jupyter-widgets/controls",
            "_model_module_version": "1.5.0",
            "_model_name": "ProgressStyleModel",
            "_view_count": null,
            "_view_module": "@jupyter-widgets/base",
            "_view_module_version": "1.2.0",
            "_view_name": "StyleView",
            "bar_color": null,
            "description_width": ""
          }
        },
        "f84f9eaa9d0843b584f11a09e72f7bfa": {
          "model_module": "@jupyter-widgets/base",
          "model_name": "LayoutModel",
          "model_module_version": "1.2.0",
          "state": {
            "_model_module": "@jupyter-widgets/base",
            "_model_module_version": "1.2.0",
            "_model_name": "LayoutModel",
            "_view_count": null,
            "_view_module": "@jupyter-widgets/base",
            "_view_module_version": "1.2.0",
            "_view_name": "LayoutView",
            "align_content": null,
            "align_items": null,
            "align_self": null,
            "border": null,
            "bottom": null,
            "display": null,
            "flex": null,
            "flex_flow": null,
            "grid_area": null,
            "grid_auto_columns": null,
            "grid_auto_flow": null,
            "grid_auto_rows": null,
            "grid_column": null,
            "grid_gap": null,
            "grid_row": null,
            "grid_template_areas": null,
            "grid_template_columns": null,
            "grid_template_rows": null,
            "height": null,
            "justify_content": null,
            "justify_items": null,
            "left": null,
            "margin": null,
            "max_height": null,
            "max_width": null,
            "min_height": null,
            "min_width": null,
            "object_fit": null,
            "object_position": null,
            "order": null,
            "overflow": null,
            "overflow_x": null,
            "overflow_y": null,
            "padding": null,
            "right": null,
            "top": null,
            "visibility": null,
            "width": null
          }
        },
        "e596f7deb8674ce6a1df304a0f7449c1": {
          "model_module": "@jupyter-widgets/controls",
          "model_name": "DescriptionStyleModel",
          "model_module_version": "1.5.0",
          "state": {
            "_model_module": "@jupyter-widgets/controls",
            "_model_module_version": "1.5.0",
            "_model_name": "DescriptionStyleModel",
            "_view_count": null,
            "_view_module": "@jupyter-widgets/base",
            "_view_module_version": "1.2.0",
            "_view_name": "StyleView",
            "description_width": ""
          }
        }
      }
    }
  },
  "nbformat": 4,
  "nbformat_minor": 0
}