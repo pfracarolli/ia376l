{
  "cells": [
    {
      "cell_type": "markdown",
      "source": [
        "## IA376-L - Projeto Final - Data Augmentation"
      ],
      "metadata": {
        "id": "icOPLskiT6mI"
      }
    },
    {
      "cell_type": "markdown",
      "metadata": {
        "id": "25YSc76_WCQE"
      },
      "source": [
        "Clonando o repositório para pegar a GAN e o GradCAM."
      ]
    },
    {
      "cell_type": "code",
      "execution_count": null,
      "metadata": {
        "colab": {
          "base_uri": "https://localhost:8080/"
        },
        "id": "4CBLD43hzVLp",
        "outputId": "1d3a16db-6aeb-4225-d4d0-f1b59c1e30f2"
      },
      "outputs": [
        {
          "output_type": "stream",
          "name": "stdout",
          "text": [
            "fatal: destination path 'ia376l' already exists and is not an empty directory.\n"
          ]
        }
      ],
      "source": [
        "!git clone https://github.com/pfracarolli/ia376l.git"
      ]
    },
    {
      "cell_type": "markdown",
      "metadata": {
        "id": "08-2OasrWJUt"
      },
      "source": [
        "Instalando o repositório como uma biblioteca."
      ]
    },
    {
      "cell_type": "code",
      "execution_count": null,
      "metadata": {
        "colab": {
          "base_uri": "https://localhost:8080/"
        },
        "id": "RCuI-oY8zdGF",
        "outputId": "6922581d-88e4-43be-f3f9-dabca9ec2a7e"
      },
      "outputs": [
        {
          "output_type": "stream",
          "name": "stdout",
          "text": [
            "Found existing installation: ia376l 0.1.0\n",
            "Uninstalling ia376l-0.1.0:\n",
            "  Successfully uninstalled ia376l-0.1.0\n",
            "Looking in indexes: https://pypi.org/simple, https://us-python.pkg.dev/colab-wheels/public/simple/\n",
            "Processing /content/ia376l\n",
            "\u001b[33m  DEPRECATION: A future pip version will change local packages to be built in-place without first copying to a temporary directory. We recommend you use --use-feature=in-tree-build to test your packages with this new behavior before it becomes the default.\n",
            "   pip 21.3 will remove support for this functionality. You can find discussion regarding this at https://github.com/pypa/pip/issues/7555.\u001b[0m\n",
            "Requirement already satisfied: pytorch_lightning in /usr/local/lib/python3.7/dist-packages (from ia376l==0.1.0) (1.6.4)\n",
            "Requirement already satisfied: einops in /usr/local/lib/python3.7/dist-packages (from ia376l==0.1.0) (0.4.1)\n",
            "Requirement already satisfied: torchmetrics>=0.4.1 in /usr/local/lib/python3.7/dist-packages (from pytorch_lightning->ia376l==0.1.0) (0.9.1)\n",
            "Requirement already satisfied: torch>=1.8.* in /usr/local/lib/python3.7/dist-packages (from pytorch_lightning->ia376l==0.1.0) (1.11.0+cu113)\n",
            "Requirement already satisfied: tqdm>=4.57.0 in /usr/local/lib/python3.7/dist-packages (from pytorch_lightning->ia376l==0.1.0) (4.64.0)\n",
            "Requirement already satisfied: fsspec[http]!=2021.06.0,>=2021.05.0 in /usr/local/lib/python3.7/dist-packages (from pytorch_lightning->ia376l==0.1.0) (2022.5.0)\n",
            "Requirement already satisfied: typing-extensions>=4.0.0 in /usr/local/lib/python3.7/dist-packages (from pytorch_lightning->ia376l==0.1.0) (4.1.1)\n",
            "Requirement already satisfied: pyDeprecate>=0.3.1 in /usr/local/lib/python3.7/dist-packages (from pytorch_lightning->ia376l==0.1.0) (0.3.2)\n",
            "Requirement already satisfied: PyYAML>=5.4 in /usr/local/lib/python3.7/dist-packages (from pytorch_lightning->ia376l==0.1.0) (6.0)\n",
            "Requirement already satisfied: tensorboard>=2.2.0 in /usr/local/lib/python3.7/dist-packages (from pytorch_lightning->ia376l==0.1.0) (2.8.0)\n",
            "Requirement already satisfied: protobuf<=3.20.1 in /usr/local/lib/python3.7/dist-packages (from pytorch_lightning->ia376l==0.1.0) (3.17.3)\n",
            "Requirement already satisfied: packaging>=17.0 in /usr/local/lib/python3.7/dist-packages (from pytorch_lightning->ia376l==0.1.0) (21.3)\n",
            "Requirement already satisfied: numpy>=1.17.2 in /usr/local/lib/python3.7/dist-packages (from pytorch_lightning->ia376l==0.1.0) (1.21.6)\n",
            "Requirement already satisfied: aiohttp in /usr/local/lib/python3.7/dist-packages (from fsspec[http]!=2021.06.0,>=2021.05.0->pytorch_lightning->ia376l==0.1.0) (3.8.1)\n",
            "Requirement already satisfied: requests in /usr/local/lib/python3.7/dist-packages (from fsspec[http]!=2021.06.0,>=2021.05.0->pytorch_lightning->ia376l==0.1.0) (2.23.0)\n",
            "Requirement already satisfied: pyparsing!=3.0.5,>=2.0.2 in /usr/local/lib/python3.7/dist-packages (from packaging>=17.0->pytorch_lightning->ia376l==0.1.0) (3.0.9)\n",
            "Requirement already satisfied: six>=1.9 in /usr/local/lib/python3.7/dist-packages (from protobuf<=3.20.1->pytorch_lightning->ia376l==0.1.0) (1.15.0)\n",
            "Requirement already satisfied: tensorboard-data-server<0.7.0,>=0.6.0 in /usr/local/lib/python3.7/dist-packages (from tensorboard>=2.2.0->pytorch_lightning->ia376l==0.1.0) (0.6.1)\n",
            "Requirement already satisfied: markdown>=2.6.8 in /usr/local/lib/python3.7/dist-packages (from tensorboard>=2.2.0->pytorch_lightning->ia376l==0.1.0) (3.3.7)\n",
            "Requirement already satisfied: absl-py>=0.4 in /usr/local/lib/python3.7/dist-packages (from tensorboard>=2.2.0->pytorch_lightning->ia376l==0.1.0) (1.1.0)\n",
            "Requirement already satisfied: wheel>=0.26 in /usr/local/lib/python3.7/dist-packages (from tensorboard>=2.2.0->pytorch_lightning->ia376l==0.1.0) (0.37.1)\n",
            "Requirement already satisfied: google-auth<3,>=1.6.3 in /usr/local/lib/python3.7/dist-packages (from tensorboard>=2.2.0->pytorch_lightning->ia376l==0.1.0) (1.35.0)\n",
            "Requirement already satisfied: grpcio>=1.24.3 in /usr/local/lib/python3.7/dist-packages (from tensorboard>=2.2.0->pytorch_lightning->ia376l==0.1.0) (1.46.3)\n",
            "Requirement already satisfied: tensorboard-plugin-wit>=1.6.0 in /usr/local/lib/python3.7/dist-packages (from tensorboard>=2.2.0->pytorch_lightning->ia376l==0.1.0) (1.8.1)\n",
            "Requirement already satisfied: google-auth-oauthlib<0.5,>=0.4.1 in /usr/local/lib/python3.7/dist-packages (from tensorboard>=2.2.0->pytorch_lightning->ia376l==0.1.0) (0.4.6)\n",
            "Requirement already satisfied: werkzeug>=0.11.15 in /usr/local/lib/python3.7/dist-packages (from tensorboard>=2.2.0->pytorch_lightning->ia376l==0.1.0) (1.0.1)\n",
            "Requirement already satisfied: setuptools>=41.0.0 in /usr/local/lib/python3.7/dist-packages (from tensorboard>=2.2.0->pytorch_lightning->ia376l==0.1.0) (57.4.0)\n",
            "Requirement already satisfied: cachetools<5.0,>=2.0.0 in /usr/local/lib/python3.7/dist-packages (from google-auth<3,>=1.6.3->tensorboard>=2.2.0->pytorch_lightning->ia376l==0.1.0) (4.2.4)\n",
            "Requirement already satisfied: rsa<5,>=3.1.4 in /usr/local/lib/python3.7/dist-packages (from google-auth<3,>=1.6.3->tensorboard>=2.2.0->pytorch_lightning->ia376l==0.1.0) (4.8)\n",
            "Requirement already satisfied: pyasn1-modules>=0.2.1 in /usr/local/lib/python3.7/dist-packages (from google-auth<3,>=1.6.3->tensorboard>=2.2.0->pytorch_lightning->ia376l==0.1.0) (0.2.8)\n",
            "Requirement already satisfied: requests-oauthlib>=0.7.0 in /usr/local/lib/python3.7/dist-packages (from google-auth-oauthlib<0.5,>=0.4.1->tensorboard>=2.2.0->pytorch_lightning->ia376l==0.1.0) (1.3.1)\n",
            "Requirement already satisfied: importlib-metadata>=4.4 in /usr/local/lib/python3.7/dist-packages (from markdown>=2.6.8->tensorboard>=2.2.0->pytorch_lightning->ia376l==0.1.0) (4.11.4)\n",
            "Requirement already satisfied: zipp>=0.5 in /usr/local/lib/python3.7/dist-packages (from importlib-metadata>=4.4->markdown>=2.6.8->tensorboard>=2.2.0->pytorch_lightning->ia376l==0.1.0) (3.8.0)\n",
            "Requirement already satisfied: pyasn1<0.5.0,>=0.4.6 in /usr/local/lib/python3.7/dist-packages (from pyasn1-modules>=0.2.1->google-auth<3,>=1.6.3->tensorboard>=2.2.0->pytorch_lightning->ia376l==0.1.0) (0.4.8)\n",
            "Requirement already satisfied: urllib3!=1.25.0,!=1.25.1,<1.26,>=1.21.1 in /usr/local/lib/python3.7/dist-packages (from requests->fsspec[http]!=2021.06.0,>=2021.05.0->pytorch_lightning->ia376l==0.1.0) (1.24.3)\n",
            "Requirement already satisfied: certifi>=2017.4.17 in /usr/local/lib/python3.7/dist-packages (from requests->fsspec[http]!=2021.06.0,>=2021.05.0->pytorch_lightning->ia376l==0.1.0) (2022.6.15)\n",
            "Requirement already satisfied: idna<3,>=2.5 in /usr/local/lib/python3.7/dist-packages (from requests->fsspec[http]!=2021.06.0,>=2021.05.0->pytorch_lightning->ia376l==0.1.0) (2.10)\n",
            "Requirement already satisfied: chardet<4,>=3.0.2 in /usr/local/lib/python3.7/dist-packages (from requests->fsspec[http]!=2021.06.0,>=2021.05.0->pytorch_lightning->ia376l==0.1.0) (3.0.4)\n",
            "Requirement already satisfied: oauthlib>=3.0.0 in /usr/local/lib/python3.7/dist-packages (from requests-oauthlib>=0.7.0->google-auth-oauthlib<0.5,>=0.4.1->tensorboard>=2.2.0->pytorch_lightning->ia376l==0.1.0) (3.2.0)\n",
            "Requirement already satisfied: async-timeout<5.0,>=4.0.0a3 in /usr/local/lib/python3.7/dist-packages (from aiohttp->fsspec[http]!=2021.06.0,>=2021.05.0->pytorch_lightning->ia376l==0.1.0) (4.0.2)\n",
            "Requirement already satisfied: charset-normalizer<3.0,>=2.0 in /usr/local/lib/python3.7/dist-packages (from aiohttp->fsspec[http]!=2021.06.0,>=2021.05.0->pytorch_lightning->ia376l==0.1.0) (2.0.12)\n",
            "Requirement already satisfied: yarl<2.0,>=1.0 in /usr/local/lib/python3.7/dist-packages (from aiohttp->fsspec[http]!=2021.06.0,>=2021.05.0->pytorch_lightning->ia376l==0.1.0) (1.7.2)\n",
            "Requirement already satisfied: attrs>=17.3.0 in /usr/local/lib/python3.7/dist-packages (from aiohttp->fsspec[http]!=2021.06.0,>=2021.05.0->pytorch_lightning->ia376l==0.1.0) (21.4.0)\n",
            "Requirement already satisfied: frozenlist>=1.1.1 in /usr/local/lib/python3.7/dist-packages (from aiohttp->fsspec[http]!=2021.06.0,>=2021.05.0->pytorch_lightning->ia376l==0.1.0) (1.3.0)\n",
            "Requirement already satisfied: aiosignal>=1.1.2 in /usr/local/lib/python3.7/dist-packages (from aiohttp->fsspec[http]!=2021.06.0,>=2021.05.0->pytorch_lightning->ia376l==0.1.0) (1.2.0)\n",
            "Requirement already satisfied: multidict<7.0,>=4.5 in /usr/local/lib/python3.7/dist-packages (from aiohttp->fsspec[http]!=2021.06.0,>=2021.05.0->pytorch_lightning->ia376l==0.1.0) (6.0.2)\n",
            "Requirement already satisfied: asynctest==0.13.0 in /usr/local/lib/python3.7/dist-packages (from aiohttp->fsspec[http]!=2021.06.0,>=2021.05.0->pytorch_lightning->ia376l==0.1.0) (0.13.0)\n",
            "Building wheels for collected packages: ia376l\n",
            "  Building wheel for ia376l (setup.py) ... \u001b[?25l\u001b[?25hdone\n",
            "  Created wheel for ia376l: filename=ia376l-0.1.0-py3-none-any.whl size=21715 sha256=b688e9fe7efa452d82b334c98e84fcfa80e16035ce1491d3e148e8e5a332c833\n",
            "  Stored in directory: /tmp/pip-ephem-wheel-cache-9mgi9_wa/wheels/58/e9/bc/ccaad55e997bb3e09a10ac69f2cdf54416ff181213561d6915\n",
            "Successfully built ia376l\n",
            "Installing collected packages: ia376l\n",
            "Successfully installed ia376l-0.1.0\n"
          ]
        }
      ],
      "source": [
        "!pip uninstall -y ia376l\n",
        "!cd ./ia376l && pip install ."
      ]
    },
    {
      "cell_type": "markdown",
      "metadata": {
        "id": "VnZaB0BdWOge"
      },
      "source": [
        "Baixando e descomprimindo o dataset."
      ]
    },
    {
      "cell_type": "code",
      "execution_count": null,
      "metadata": {
        "id": "fTLMCVXFOwkv",
        "colab": {
          "base_uri": "https://localhost:8080/"
        },
        "outputId": "8c607535-4b26-4b48-f6be-597ff1915172"
      },
      "outputs": [
        {
          "output_type": "stream",
          "name": "stdout",
          "text": [
            "mkdir: cannot create directory ‘./data’: File exists\n"
          ]
        }
      ],
      "source": [
        "!mkdir ./data && cp ./drive/MyDrive/FotosModelo.zip ./data/FotosModelo.zip"
      ]
    },
    {
      "cell_type": "code",
      "execution_count": null,
      "metadata": {
        "id": "hpxwEgYMPmAr",
        "colab": {
          "base_uri": "https://localhost:8080/"
        },
        "outputId": "965bb302-6b32-4696-fb5f-b82883daa80e"
      },
      "outputs": [
        {
          "output_type": "stream",
          "name": "stdout",
          "text": [
            "unzip:  cannot find or open ./FotosModelo.zip, ./FotosModelo.zip.zip or ./FotosModelo.zip.ZIP.\n"
          ]
        }
      ],
      "source": [
        "!cd ./data && unzip ./FotosModelo.zip > /dev/null && rm -rf ./FotosModelo.zip "
      ]
    },
    {
      "cell_type": "markdown",
      "source": [
        "Criando uma função para setar todas as seeds para fins de reprodutibilidade."
      ],
      "metadata": {
        "id": "1EOv75ISM1Ss"
      }
    },
    {
      "cell_type": "code",
      "source": [
        "import torch\n",
        "import numpy as np\n",
        "import random\n",
        "\n",
        "def set_seed(seed):\n",
        "    random.seed(seed)\n",
        "    np.random.seed(seed)\n",
        "    torch.manual_seed(seed)\n",
        "\n",
        "set_seed(1234)"
      ],
      "metadata": {
        "id": "7CEcxAdnIGa-"
      },
      "execution_count": null,
      "outputs": []
    },
    {
      "cell_type": "markdown",
      "metadata": {
        "id": "7QalWQ6lWXY3"
      },
      "source": [
        "Dividindo o dataset entre treino, validação e teste."
      ]
    },
    {
      "cell_type": "code",
      "execution_count": null,
      "metadata": {
        "id": "dXDHJoWjCbK1"
      },
      "outputs": [],
      "source": [
        "import os\n",
        "import shutil\n",
        "\n",
        "!rm -rf ./data_split\n",
        "set_seed(1234)\n",
        "\n",
        "def write_lines_into_file(filepath, lines):\n",
        "    if not os.path.exists(filepath):\n",
        "        with open(filepath, 'w') as f:\n",
        "            for line in lines:\n",
        "                f.write(f'{line}\\n')\n",
        "\n",
        "def split_dataset(root_dir: str, dist_dir: str, train_size: float = .7, split_dir='./drive/MyDrive/checkpoints'):\n",
        "    train_dir = f\"{dist_dir}/train\"\n",
        "    val_dir = f\"{dist_dir}/validation\"\n",
        "    test_dir = f\"{dist_dir}/test\"\n",
        "\n",
        "    if not os.path.exists(train_dir):\n",
        "        os.makedirs(train_dir)\n",
        "\n",
        "    if not os.path.exists(test_dir):\n",
        "        os.makedirs(test_dir)\n",
        "\n",
        "    if len(os.listdir(train_dir)) == 0 and len(os.listdir(test_dir)) == 0:\n",
        "        for class_dir in os.listdir(root_dir):\n",
        "            currclass_dir = f\"{root_dir}/{class_dir}\"\n",
        "\n",
        "            currclass_train_dir = f\"{train_dir}/{class_dir}\"\n",
        "            currclass_val_dir = f\"{val_dir}/{class_dir}\"\n",
        "            currclass_test_dir = f\"{test_dir}/{class_dir}\"\n",
        "\n",
        "            os.makedirs(currclass_train_dir)\n",
        "            os.makedirs(currclass_val_dir)\n",
        "            os.makedirs(currclass_test_dir)\n",
        "\n",
        "            files = os.listdir(currclass_dir)\n",
        "            np.random.shuffle(files)\n",
        "            num_files = len(files)\n",
        "\n",
        "            train_idx = int(num_files * train_size)\n",
        "            val_idx = train_idx + int((num_files - train_idx) / 2)\n",
        "\n",
        "            if not os.path.exists(f'{split_dir}/{class_dir}'):\n",
        "                os.makedirs(f'{split_dir}/{class_dir}')\n",
        "\n",
        "            train_filename = f'{split_dir}/{class_dir}/train.txt'\n",
        "            validation_filename = f'{split_dir}/{class_dir}/validation.txt'\n",
        "            test_filename = f'{split_dir}/{class_dir}/test.txt'\n",
        "\n",
        "            write_lines_into_file(train_filename, files[:train_idx])\n",
        "            write_lines_into_file(validation_filename, files[train_idx:val_idx])\n",
        "            write_lines_into_file(test_filename, files[val_idx:])\n",
        "\n",
        "            train_filenames = open(train_filename)\n",
        "            validation_filenames = open(validation_filename)\n",
        "            test_filenames = open(test_filename)\n",
        "\n",
        "            for filename in train_filenames.readlines():\n",
        "                shutil.copy(f\"{currclass_dir}/{filename.strip()}\", f\"{currclass_train_dir}/{filename.strip()}\")\n",
        "\n",
        "            for filename in validation_filenames.readlines():\n",
        "                shutil.copy(f\"{currclass_dir}/{filename.strip()}\", f\"{currclass_val_dir}/{filename.strip()}\")\n",
        "\n",
        "            for filename in test_filenames.readlines():\n",
        "                shutil.copy(f\"{currclass_dir}/{filename.strip()}\", f\"{currclass_test_dir}/{filename.strip()}\")\n",
        "\n",
        "            train_filenames.close()\n",
        "            validation_filenames.close()\n",
        "            test_filenames.close()       \n",
        "\n",
        "split_dataset('./data', './data_split')"
      ]
    },
    {
      "cell_type": "markdown",
      "source": [
        "Plotando o histograma das classes para verificar se estão balanceadas."
      ],
      "metadata": {
        "id": "8nd0pmgaUEbv"
      }
    },
    {
      "cell_type": "code",
      "execution_count": null,
      "metadata": {
        "id": "XNHEUdlmo2nh",
        "colab": {
          "base_uri": "https://localhost:8080/",
          "height": 338
        },
        "outputId": "e670a510-b606-41a3-80b6-83fef33ff072"
      },
      "outputs": [
        {
          "output_type": "execute_result",
          "data": {
            "text/plain": [
              "<BarContainer object of 10 artists>"
            ]
          },
          "metadata": {},
          "execution_count": 28
        },
        {
          "output_type": "display_data",
          "data": {
            "text/plain": [
              "<Figure size 1080x360 with 1 Axes>"
            ],
            "image/png": "[encoded data removed]"
          },
          "metadata": {
            "needs_background": "light"
          }
        }
      ],
      "source": [
        "import matplotlib.pyplot as plt\n",
        "\n",
        "train_data = [\n",
        "    (klass, len(os.listdir(f'./data_split/train/{klass}'))) \n",
        "    for klass in os.listdir('./data_split/train')\n",
        "]\n",
        "\n",
        "xs, ys = zip(*train_data)\n",
        "\n",
        "ax = plt.subplot()\n",
        "ax.figure.set_figheight(5)\n",
        "ax.figure.set_figwidth(15)\n",
        "ax.bar(xs, ys)"
      ]
    },
    {
      "cell_type": "markdown",
      "source": [
        "Criando os dataloaders de treino (sem augmentation), validação e teste."
      ],
      "metadata": {
        "id": "1FSQm6Q5ULE5"
      }
    },
    {
      "cell_type": "code",
      "execution_count": null,
      "metadata": {
        "id": "qR7bKwNnQS3X",
        "colab": {
          "base_uri": "https://localhost:8080/"
        },
        "outputId": "df250650-a3ba-42af-cad5-2f2aae38ffbb"
      },
      "outputs": [
        {
          "output_type": "stream",
          "name": "stdout",
          "text": [
            "# of train examples 2100\n",
            "# of validation examples 450\n",
            "# of test examples 450\n",
            "torch.Size([20, 3, 512, 512])\n",
            "torch.Size([20])\n"
          ]
        }
      ],
      "source": [
        "from multiprocessing import cpu_count\n",
        "\n",
        "from torch.utils.data import DataLoader\n",
        "from torchvision.datasets import ImageFolder\n",
        "from torchvision.transforms import ToTensor, ToPILImage, Compose, Resize\n",
        "\n",
        "ds_transform=Compose([ToTensor(), Resize((512, 512))])\n",
        "ds_train = ImageFolder('./data_split/train', transform=ds_transform)\n",
        "ds_validation = ImageFolder('./data_split/validation', transform=ds_transform)\n",
        "ds_test = ImageFolder('./data_split/test', transform=ds_transform)\n",
        "\n",
        "print('# of train examples', len(ds_train))\n",
        "print('# of validation examples', len(ds_validation))\n",
        "print('# of test examples', len(ds_test))\n",
        "\n",
        "batch_size = 20\n",
        "\n",
        "dl_train = DataLoader(ds_train, batch_size, shuffle=True, num_workers=cpu_count())\n",
        "dl_validation = DataLoader(ds_validation, batch_size, shuffle=False, num_workers=cpu_count())\n",
        "dl_test = DataLoader(ds_test, batch_size, shuffle=False, num_workers=cpu_count())\n",
        "\n",
        "x, y = next(iter(dl_train))\n",
        "\n",
        "print(x.size())\n",
        "print(y.size())"
      ]
    },
    {
      "cell_type": "markdown",
      "source": [
        "Aqui, criamos uma função para criar um objeto `Trainer` do `pytorch_lightning`. Criamos a função para passar os argumentos dinamicamente, pois se passarmos `resume_from_checkpoint` sem ter o arquivo existir iremos ter um erro."
      ],
      "metadata": {
        "id": "DSIUrPDsUTIF"
      }
    },
    {
      "cell_type": "code",
      "execution_count": null,
      "metadata": {
        "id": "RIZxzr5ihBvp"
      },
      "outputs": [],
      "source": [
        "import pytorch_lightning as pl\n",
        "\n",
        "def create_trainer(checkpoint_path: str, filename: str, max_epochs: int = 25) -> pl.Trainer:\n",
        "    trainer_kwargs = {\n",
        "        'gpus': 1,\n",
        "        'max_epochs': max_epochs,\n",
        "    }\n",
        "\n",
        "    trainer_kwargs['callbacks'] = [\n",
        "        pl.callbacks.ModelCheckpoint(\n",
        "            dirpath=checkpoint_path, \n",
        "            filename=filename,\n",
        "            every_n_epochs=1,\n",
        "            save_top_k=1,\n",
        "            monitor='validation_acc',\n",
        "            mode='max'\n",
        "        )\n",
        "    ]\n",
        "\n",
        "    checkpoint_full_path = os.path.join(checkpoint_path, f'{filename}.ckpt')\n",
        "\n",
        "    if os.path.exists(checkpoint_full_path):\n",
        "        trainer_kwargs['resume_from_checkpoint'] = checkpoint_full_path\n",
        "\n",
        "    return pl.Trainer(**trainer_kwargs)"
      ]
    },
    {
      "cell_type": "markdown",
      "source": [
        "Treinamento dos modelos. Por enquanto, estamos apenas testando os checkpoints encontrados. Para repetir os treinamentos e a geração de dados, descomente as linhas comentadas e comente as linhas que carregam os modelos a partir do checkpoint (i.e. `MobileNet.load_from_checkpoint(...)`)."
      ],
      "metadata": {
        "id": "ka2n_KLiXto6"
      }
    },
    {
      "cell_type": "code",
      "execution_count": null,
      "metadata": {
        "id": "oHToBxNaEL3T",
        "colab": {
          "base_uri": "https://localhost:8080/",
          "height": 301,
          "referenced_widgets": [
            "5139879c331f4319829d62f18f8e310f",
            "603aa731ca0c47a597d57eb51e490ecb",
            "6cd909e544394abf8a92b16993b10824",
            "6f118a80079348b3a5df4c39b08e900d",
            "eb79451200de45afab5d36a5fbd921a1",
            "00e8079e20aa49119ccc1eef10afbf37",
            "c22d29a4331d476bb6c29c4b04b06da8",
            "2a7c67c5c85b45f39a904c920f20014f",
            "1e9f3056bf504b369f58127d690fe598",
            "4ecf0e71b97446368e62d3a5a36b1f7e",
            "88754aa1560e4d9a8bab4c715b3e4cc3"
          ]
        },
        "outputId": "0aafab25-8110-4e77-fc12-cccd022a14a2"
      },
      "outputs": [
        {
          "output_type": "stream",
          "name": "stderr",
          "text": [
            "/usr/local/lib/python3.7/dist-packages/pytorch_lightning/trainer/connectors/checkpoint_connector.py:52: LightningDeprecationWarning: Setting `Trainer(resume_from_checkpoint=)` is deprecated in v1.5 and will be removed in v1.7. Please pass `Trainer.fit(ckpt_path=)` directly instead.\n",
            "  \"Setting `Trainer(resume_from_checkpoint=)` is deprecated in v1.5 and\"\n",
            "GPU available: True, used: True\n",
            "TPU available: False, using: 0 TPU cores\n",
            "IPU available: False, using: 0 IPUs\n",
            "HPU available: False, using: 0 HPUs\n",
            "LOCAL_RANK: 0 - CUDA_VISIBLE_DEVICES: [0]\n"
          ]
        },
        {
          "output_type": "display_data",
          "data": {
            "text/plain": [
              "Testing: 0it [00:00, ?it/s]"
            ],
            "application/vnd.jupyter.widget-view+json": {
              "version_major": 2,
              "version_minor": 0,
              "model_id": "5139879c331f4319829d62f18f8e310f"
            }
          },
          "metadata": {}
        },
        {
          "output_type": "stream",
          "name": "stdout",
          "text": [
            "────────────────────────────────────────────────────────────────────────────────────────────────────────────────────────\n",
            "       Test metric             DataLoader 0\n",
            "────────────────────────────────────────────────────────────────────────────────────────────────────────────────────────\n",
            "        test_acc             0.791304347826087\n",
            "        train_acc           0.7977777777777778\n",
            "────────────────────────────────────────────────────────────────────────────────────────────────────────────────────────\n"
          ]
        }
      ],
      "source": [
        "from ia376l.models import MobileNet\n",
        "\n",
        "accuracies = []\n",
        "\n",
        "set_seed(1234)\n",
        "\n",
        "model_base = MobileNet()\n",
        "trainer = create_trainer('./drive/MyDrive/checkpoints/', 'baseline_2') \n",
        "# trainer.fit(model_base, train_dataloaders=dl_train, val_dataloaders=dl_validation)\n",
        "model_base = MobileNet.load_from_checkpoint('./drive/MyDrive/checkpoints/baseline_2.ckpt')\n",
        "accuracies.append(trainer.test(model_base, dl_test))"
      ]
    },
    {
      "cell_type": "code",
      "execution_count": null,
      "metadata": {
        "id": "a0ZmEb6IEP2L"
      },
      "outputs": [],
      "source": [
        "# !rm -rf ./data_split/train_gen_25\n",
        "# !cp -r ./data_split/train ./data_split/train_gen_25"
      ]
    },
    {
      "cell_type": "code",
      "execution_count": null,
      "metadata": {
        "id": "8F4i3QRh6tNJ"
      },
      "outputs": [],
      "source": [
        "import gc\n",
        "\n",
        "from tqdm.notebook import tqdm\n",
        "from torchvision.utils import save_image\n",
        "from ia376l.models import Generator\n",
        "\n",
        "set_seed(1234)\n",
        "\n",
        "def generate_samples(generator, train_data_root, weights_root, gen_size=0.25):\n",
        "    for folder in tqdm(os.listdir(train_data_root)):\n",
        "        output_folder = f\"{train_data_root}/{folder}\"\n",
        "        n = int(len(os.listdir(output_folder)) * gen_size)\n",
        "        weights = torch.load(f\"{weights_root}/{folder}.pth\")\n",
        "        generator.load_state_dict(weights['gen_state_dict'])\n",
        "        generator.eval()\n",
        "        \n",
        "        for idx in range(n):\n",
        "            batch = generator(torch.randn(1, 256, 1, 1))\n",
        "            image = batch[0]\n",
        "            save_image(image, f'{output_folder}/{folder}_gen_{idx}.png', normalize=True)\n",
        "\n",
        "        gc.collect()\n",
        "\n",
        "# print('Generating samples...')\n",
        "# generate_samples(Generator(), './data_split/train_gen_25', './drive/MyDrive/PESOS', gen_size=0.25)"
      ]
    },
    {
      "cell_type": "code",
      "execution_count": null,
      "metadata": {
        "id": "OU4LeNHdM9pX"
      },
      "outputs": [],
      "source": [
        "set_seed(1234)\n",
        "\n",
        "# ds_train_gen_25 = ImageFolder('./data_split/train_gen_25', transform=ds_transform)\n",
        "# dl_train_gen_25 = DataLoader(\n",
        "#     ds_train_gen_25, \n",
        "#     batch_size=batch_size, \n",
        "#     shuffle=True, \n",
        "#     num_workers=cpu_count()\n",
        "# )\n",
        "\n",
        "# print('# of training examples (with gen)', len(ds_train_gen_25))\n",
        "# print(next(iter(dl_train_gen_25))[0].size())"
      ]
    },
    {
      "cell_type": "code",
      "execution_count": null,
      "metadata": {
        "id": "DvMZU2roM0b_",
        "colab": {
          "base_uri": "https://localhost:8080/",
          "height": 301,
          "referenced_widgets": [
            "ff262d727c7e48e49b96fbf4ecdfd015",
            "f19796ada3e54c6e84b99f4411e62408",
            "ccea9f9a3b3b431b8b75b31903d0605e",
            "fb35a3e245d44bbcac0bb2ceca9a59c7",
            "dfc5b387e96242968334b315966120e9",
            "331f97e331944124a92fdf9fc167b14f",
            "5ebe8b0055b74e03abca3239c861a86d",
            "b3d25de0431c47f6854a78dbcff80908",
            "fbaa7c11f78e4232a00338dbfd981265",
            "7c9377d241dd40a5a1445beb23d760ba",
            "87237db2a2d64e519442f8583392cf24"
          ]
        },
        "outputId": "7383ef24-0f18-4b4b-b45b-5caae4854651"
      },
      "outputs": [
        {
          "output_type": "stream",
          "name": "stderr",
          "text": [
            "/usr/local/lib/python3.7/dist-packages/pytorch_lightning/trainer/connectors/checkpoint_connector.py:52: LightningDeprecationWarning: Setting `Trainer(resume_from_checkpoint=)` is deprecated in v1.5 and will be removed in v1.7. Please pass `Trainer.fit(ckpt_path=)` directly instead.\n",
            "  \"Setting `Trainer(resume_from_checkpoint=)` is deprecated in v1.5 and\"\n",
            "GPU available: True, used: True\n",
            "TPU available: False, using: 0 TPU cores\n",
            "IPU available: False, using: 0 IPUs\n",
            "HPU available: False, using: 0 HPUs\n",
            "LOCAL_RANK: 0 - CUDA_VISIBLE_DEVICES: [0]\n"
          ]
        },
        {
          "output_type": "display_data",
          "data": {
            "text/plain": [
              "Testing: 0it [00:00, ?it/s]"
            ],
            "application/vnd.jupyter.widget-view+json": {
              "version_major": 2,
              "version_minor": 0,
              "model_id": "ff262d727c7e48e49b96fbf4ecdfd015"
            }
          },
          "metadata": {}
        },
        {
          "output_type": "stream",
          "name": "stdout",
          "text": [
            "────────────────────────────────────────────────────────────────────────────────────────────────────────────────────────\n",
            "       Test metric             DataLoader 0\n",
            "────────────────────────────────────────────────────────────────────────────────────────────────────────────────────────\n",
            "        test_acc            0.7217391304347825\n",
            "        train_acc                  0.72\n",
            "────────────────────────────────────────────────────────────────────────────────────────────────────────────────────────\n"
          ]
        }
      ],
      "source": [
        "set_seed(1234)\n",
        "\n",
        "model_gen_25 = MobileNet()\n",
        "trainer = create_trainer('./drive/MyDrive/checkpoints/', 'augmented-25_2') \n",
        "# trainer.fit(model_gen_25, train_dataloaders=dl_train_gen_25, val_dataloaders=dl_validation)\n",
        "model_gen_25 = MobileNet.load_from_checkpoint('./drive/MyDrive/checkpoints/augmented-25_2.ckpt')\n",
        "accuracies.append(trainer.test(model_gen_25, dl_test))"
      ]
    },
    {
      "cell_type": "code",
      "source": [
        "# !rm -rf ./data_split/train_gen_75\n",
        "# !cp -r ./data_split/train ./data_split/train_gen_75\n",
        "\n",
        "# set_seed(1234)\n",
        "\n",
        "# print('Generating samples...')\n",
        "# generate_samples(Generator(), './data_split/train_gen_75', './drive/MyDrive/PESOS', gen_size=0.75)"
      ],
      "metadata": {
        "id": "FYvqwSdZXDBB"
      },
      "execution_count": null,
      "outputs": []
    },
    {
      "cell_type": "code",
      "source": [
        "# set_seed(1234)\n",
        "\n",
        "# ds_train_gen_75 = ImageFolder('./data_split/train_gen_75', transform=ds_transform)\n",
        "# dl_train_gen_75 = DataLoader(\n",
        "#     ds_train_gen_75, \n",
        "#     batch_size=batch_size, \n",
        "#     shuffle=True, \n",
        "#     num_workers=cpu_count()\n",
        "# )\n",
        "\n",
        "# print('# of training examples (with gen)', len(ds_train_gen_75))\n",
        "# print(next(iter(dl_train_gen_75))[0].size())"
      ],
      "metadata": {
        "id": "GvbKbjNAXUZN"
      },
      "execution_count": null,
      "outputs": []
    },
    {
      "cell_type": "code",
      "source": [
        "set_seed(1234)\n",
        "\n",
        "model_gen_75 = MobileNet()\n",
        "\n",
        "trainer = create_trainer('./drive/MyDrive/checkpoints/', 'augmented-75_2') \n",
        "# trainer.fit(model_gen_75, train_dataloaders=dl_train_gen_75, val_dataloaders=dl_validation)\n",
        "model_gen_75 = MobileNet.load_from_checkpoint('./drive/MyDrive/checkpoints/augmented-75_2.ckpt')\n",
        "accuracies.append(trainer.test(model_gen_75, dl_test))"
      ],
      "metadata": {
        "id": "WNaog15xbS31",
        "colab": {
          "base_uri": "https://localhost:8080/",
          "height": 301,
          "referenced_widgets": [
            "8d3f56b2de424cdcb3d308c942580af0",
            "c6d89ecd2abf45aaad31604ef634f109",
            "5225942080764d5d9010d75b5fd32d34",
            "ea27fa3d7e6f409fa86976b5fcbe83bc",
            "5b4014b8e4304a7db4180e0d593dc4f9",
            "fba65448e44942f1adf45eda795cf8ab",
            "c111a51302514fd580289cdbad6aa5cc",
            "9ce96a6fadad4a1dbaadaf4d5988646f",
            "50b4cebc50244cafbd64822b772696f1",
            "c1ecfc06fd054c6e8cdf663f19caddba",
            "09942dfa93d44470912994813c564900"
          ]
        },
        "outputId": "3d36949d-c03d-4097-feb0-855ba217a84f"
      },
      "execution_count": null,
      "outputs": [
        {
          "output_type": "stream",
          "name": "stderr",
          "text": [
            "/usr/local/lib/python3.7/dist-packages/pytorch_lightning/trainer/connectors/checkpoint_connector.py:52: LightningDeprecationWarning: Setting `Trainer(resume_from_checkpoint=)` is deprecated in v1.5 and will be removed in v1.7. Please pass `Trainer.fit(ckpt_path=)` directly instead.\n",
            "  \"Setting `Trainer(resume_from_checkpoint=)` is deprecated in v1.5 and\"\n",
            "GPU available: True, used: True\n",
            "TPU available: False, using: 0 TPU cores\n",
            "IPU available: False, using: 0 IPUs\n",
            "HPU available: False, using: 0 HPUs\n",
            "LOCAL_RANK: 0 - CUDA_VISIBLE_DEVICES: [0]\n"
          ]
        },
        {
          "output_type": "display_data",
          "data": {
            "text/plain": [
              "Testing: 0it [00:00, ?it/s]"
            ],
            "application/vnd.jupyter.widget-view+json": {
              "version_major": 2,
              "version_minor": 0,
              "model_id": "8d3f56b2de424cdcb3d308c942580af0"
            }
          },
          "metadata": {}
        },
        {
          "output_type": "stream",
          "name": "stdout",
          "text": [
            "────────────────────────────────────────────────────────────────────────────────────────────────────────────────────────\n",
            "       Test metric             DataLoader 0\n",
            "────────────────────────────────────────────────────────────────────────────────────────────────────────────────────────\n",
            "        test_acc            0.8369565217391303\n",
            "        train_acc           0.8444444444444444\n",
            "────────────────────────────────────────────────────────────────────────────────────────────────────────────────────────\n"
          ]
        }
      ]
    },
    {
      "cell_type": "code",
      "source": [
        "# !rm -rf ./data_split/train_gen_125\n",
        "# !cp -r ./data_split/train ./data_split/train_gen_125\n",
        "\n",
        "# set_seed(1234)\n",
        "\n",
        "# print('Generating samples...')\n",
        "# generate_samples(Generator(), './data_split/train_gen_125', './drive/MyDrive/PESOS', gen_size=1.25)"
      ],
      "metadata": {
        "id": "t48yrAz6MKTN"
      },
      "execution_count": null,
      "outputs": []
    },
    {
      "cell_type": "code",
      "source": [
        "# set_seed(1234)\n",
        "\n",
        "# ds_train_gen_125 = ImageFolder('./data_split/train_gen_125', transform=ds_transform)\n",
        "# dl_train_gen_125 = DataLoader(\n",
        "#     ds_train_gen_125, \n",
        "#     batch_size=batch_size, \n",
        "#     shuffle=True, \n",
        "#     num_workers=cpu_count()\n",
        "# )\n",
        "\n",
        "# print('# of training examples (with gen)', len(ds_train_gen_125))\n",
        "# print(next(iter(dl_train_gen_125))[0].size())"
      ],
      "metadata": {
        "id": "A-D_6of7Mc4i"
      },
      "execution_count": null,
      "outputs": []
    },
    {
      "cell_type": "code",
      "source": [
        "set_seed(1234)\n",
        "\n",
        "model_gen_125 = MobileNet()\n",
        "trainer = create_trainer('./drive/MyDrive/checkpoints/', 'augmented-125_2') \n",
        "# trainer.fit(model_gen_125, train_dataloaders=dl_train_gen_125, val_dataloaders=dl_validation)\n",
        "model_gen_125 = MobileNet.load_from_checkpoint('./drive/MyDrive/checkpoints/augmented-125_2.ckpt')\n",
        "accuracies.append(trainer.test(model_gen_125, dl_test))"
      ],
      "metadata": {
        "id": "ssAeLD1KMtCn",
        "colab": {
          "base_uri": "https://localhost:8080/",
          "height": 301,
          "referenced_widgets": [
            "de4a13897d404eb09fb25e764c03d01f",
            "8c99b4a9905345bd80546db0bbb6be85",
            "d0d6f68360ac4cd9ba65c85b7bb2d30d",
            "4df78c363f6044989c18946f172afb7e",
            "f01ea52a3d734a8686f579a72948c3cf",
            "a8d1fe08b6964a6883ff6fb385eccdcf",
            "b869087ac77043d7bf3ab4c72c3bac5f",
            "270fe77222014268aea58fbfef9672b3",
            "047bac6d7e18497e9cf17e7a8709bff2",
            "e3766ecef5934b8c886c045e2c9b55a4",
            "48ad5a8a250a413e80bda9bf7a824a0e"
          ]
        },
        "outputId": "fe162f1a-380b-42e1-9e02-611d7b8d1078"
      },
      "execution_count": null,
      "outputs": [
        {
          "output_type": "stream",
          "name": "stderr",
          "text": [
            "/usr/local/lib/python3.7/dist-packages/pytorch_lightning/trainer/connectors/checkpoint_connector.py:52: LightningDeprecationWarning: Setting `Trainer(resume_from_checkpoint=)` is deprecated in v1.5 and will be removed in v1.7. Please pass `Trainer.fit(ckpt_path=)` directly instead.\n",
            "  \"Setting `Trainer(resume_from_checkpoint=)` is deprecated in v1.5 and\"\n",
            "GPU available: True, used: True\n",
            "TPU available: False, using: 0 TPU cores\n",
            "IPU available: False, using: 0 IPUs\n",
            "HPU available: False, using: 0 HPUs\n",
            "LOCAL_RANK: 0 - CUDA_VISIBLE_DEVICES: [0]\n"
          ]
        },
        {
          "output_type": "display_data",
          "data": {
            "text/plain": [
              "Testing: 0it [00:00, ?it/s]"
            ],
            "application/vnd.jupyter.widget-view+json": {
              "version_major": 2,
              "version_minor": 0,
              "model_id": "de4a13897d404eb09fb25e764c03d01f"
            }
          },
          "metadata": {}
        },
        {
          "output_type": "stream",
          "name": "stdout",
          "text": [
            "────────────────────────────────────────────────────────────────────────────────────────────────────────────────────────\n",
            "       Test metric             DataLoader 0\n",
            "────────────────────────────────────────────────────────────────────────────────────────────────────────────────────────\n",
            "        test_acc            0.8586956521739132\n",
            "        train_acc           0.8666666666666667\n",
            "────────────────────────────────────────────────────────────────────────────────────────────────────────────────────────\n"
          ]
        }
      ]
    },
    {
      "cell_type": "code",
      "source": [
        "test_accuracies = [{'accuracy': acc[0]['test_acc']} for acc in accuracies]\n",
        "\n",
        "test_accuracies[0]['size'] = 1 * 2100\n",
        "test_accuracies[1]['size'] = 1.25 * 2100\n",
        "test_accuracies[2]['size'] = 1.75 * 2100\n",
        "test_accuracies[3]['size'] = 2.25 * 2100\n",
        "\n",
        "test_accuracies[0]['model'] = 'baseline'\n",
        "test_accuracies[1]['model'] = 'aug 25%'\n",
        "test_accuracies[2]['model'] = 'aug 75%'\n",
        "test_accuracies[3]['model'] = 'aug 125%'\n",
        "\n",
        "test_accuracies = pd.DataFrame(test_accuracies)\n",
        "test_accuracies"
      ],
      "metadata": {
        "colab": {
          "base_uri": "https://localhost:8080/",
          "height": 175
        },
        "id": "FLhrkdhV47FK",
        "outputId": "4bff2344-c8f0-40ea-ae27-52f6080bfdf8"
      },
      "execution_count": null,
      "outputs": [
        {
          "output_type": "execute_result",
          "data": {
            "text/plain": [
              "   accuracy    size     model\n",
              "0  0.791304  2100.0  baseline\n",
              "1  0.721739  2625.0   aug 25%\n",
              "2  0.836957  3675.0   aug 75%\n",
              "3  0.858696  4725.0  aug 125%"
            ],
            "text/html": [
              "\n",
              "  <div id=\"df-a13749be-074b-4035-a2fd-d0e5c80b08cd\">\n",
              "    <div class=\"colab-df-container\">\n",
              "      <div>\n",
              "<style scoped>\n",
              "    .dataframe tbody tr th:only-of-type {\n",
              "        vertical-align: middle;\n",
              "    }\n",
              "\n",
              "    .dataframe tbody tr th {\n",
              "        vertical-align: top;\n",
              "    }\n",
              "\n",
              "    .dataframe thead th {\n",
              "        text-align: right;\n",
              "    }\n",
              "</style>\n",
              "<table border=\"1\" class=\"dataframe\">\n",
              "  <thead>\n",
              "    <tr style=\"text-align: right;\">\n",
              "      <th></th>\n",
              "      <th>accuracy</th>\n",
              "      <th>size</th>\n",
              "      <th>model</th>\n",
              "    </tr>\n",
              "  </thead>\n",
              "  <tbody>\n",
              "    <tr>\n",
              "      <th>0</th>\n",
              "      <td>0.791304</td>\n",
              "      <td>2100.0</td>\n",
              "      <td>baseline</td>\n",
              "    </tr>\n",
              "    <tr>\n",
              "      <th>1</th>\n",
              "      <td>0.721739</td>\n",
              "      <td>2625.0</td>\n",
              "      <td>aug 25%</td>\n",
              "    </tr>\n",
              "    <tr>\n",
              "      <th>2</th>\n",
              "      <td>0.836957</td>\n",
              "      <td>3675.0</td>\n",
              "      <td>aug 75%</td>\n",
              "    </tr>\n",
              "    <tr>\n",
              "      <th>3</th>\n",
              "      <td>0.858696</td>\n",
              "      <td>4725.0</td>\n",
              "      <td>aug 125%</td>\n",
              "    </tr>\n",
              "  </tbody>\n",
              "</table>\n",
              "</div>\n",
              "      <button class=\"colab-df-convert\" onclick=\"convertToInteractive('df-a13749be-074b-4035-a2fd-d0e5c80b08cd')\"\n",
              "              title=\"Convert this dataframe to an interactive table.\"\n",
              "              style=\"display:none;\">\n",
              "        \n",
              "  <svg xmlns=\"http://www.w3.org/2000/svg\" height=\"24px\"viewBox=\"0 0 24 24\"\n",
              "       width=\"24px\">\n",
              "    <path d=\"M0 0h24v24H0V0z\" fill=\"none\"/>\n",
              "    <path d=\"M18.56 5.44l.94 2.06.94-2.06 2.06-.94-2.06-.94-.94-2.06-.94 2.06-2.06.94zm-11 1L8.5 8.5l.94-2.06 2.06-.94-2.06-.94L8.5 2.5l-.94 2.06-2.06.94zm10 10l.94 2.06.94-2.06 2.06-.94-2.06-.94-.94-2.06-.94 2.06-2.06.94z\"/><path d=\"M17.41 7.96l-1.37-1.37c-.4-.4-.92-.59-1.43-.59-.52 0-1.04.2-1.43.59L10.3 9.45l-7.72 7.72c-.78.78-.78 2.05 0 2.83L4 21.41c.39.39.9.59 1.41.59.51 0 1.02-.2 1.41-.59l7.78-7.78 2.81-2.81c.8-.78.8-2.07 0-2.86zM5.41 20L4 18.59l7.72-7.72 1.47 1.35L5.41 20z\"/>\n",
              "  </svg>\n",
              "      </button>\n",
              "      \n",
              "  <style>\n",
              "    .colab-df-container {\n",
              "      display:flex;\n",
              "      flex-wrap:wrap;\n",
              "      gap: 12px;\n",
              "    }\n",
              "\n",
              "    .colab-df-convert {\n",
              "      background-color: #E8F0FE;\n",
              "      border: none;\n",
              "      border-radius: 50%;\n",
              "      cursor: pointer;\n",
              "      display: none;\n",
              "      fill: #1967D2;\n",
              "      height: 32px;\n",
              "      padding: 0 0 0 0;\n",
              "      width: 32px;\n",
              "    }\n",
              "\n",
              "    .colab-df-convert:hover {\n",
              "      background-color: #E2EBFA;\n",
              "      box-shadow: 0px 1px 2px rgba(60, 64, 67, 0.3), 0px 1px 3px 1px rgba(60, 64, 67, 0.15);\n",
              "      fill: #174EA6;\n",
              "    }\n",
              "\n",
              "    [theme=dark] .colab-df-convert {\n",
              "      background-color: #3B4455;\n",
              "      fill: #D2E3FC;\n",
              "    }\n",
              "\n",
              "    [theme=dark] .colab-df-convert:hover {\n",
              "      background-color: #434B5C;\n",
              "      box-shadow: 0px 1px 3px 1px rgba(0, 0, 0, 0.15);\n",
              "      filter: drop-shadow(0px 1px 2px rgba(0, 0, 0, 0.3));\n",
              "      fill: #FFFFFF;\n",
              "    }\n",
              "  </style>\n",
              "\n",
              "      <script>\n",
              "        const buttonEl =\n",
              "          document.querySelector('#df-a13749be-074b-4035-a2fd-d0e5c80b08cd button.colab-df-convert');\n",
              "        buttonEl.style.display =\n",
              "          google.colab.kernel.accessAllowed ? 'block' : 'none';\n",
              "\n",
              "        async function convertToInteractive(key) {\n",
              "          const element = document.querySelector('#df-a13749be-074b-4035-a2fd-d0e5c80b08cd');\n",
              "          const dataTable =\n",
              "            await google.colab.kernel.invokeFunction('convertToInteractive',\n",
              "                                                     [key], {});\n",
              "          if (!dataTable) return;\n",
              "\n",
              "          const docLinkHtml = 'Like what you see? Visit the ' +\n",
              "            '<a target=\"_blank\" href=https://colab.research.google.com/notebooks/data_table.ipynb>data table notebook</a>'\n",
              "            + ' to learn more about interactive tables.';\n",
              "          element.innerHTML = '';\n",
              "          dataTable['output_type'] = 'display_data';\n",
              "          await google.colab.output.renderOutput(dataTable, element);\n",
              "          const docLink = document.createElement('div');\n",
              "          docLink.innerHTML = docLinkHtml;\n",
              "          element.appendChild(docLink);\n",
              "        }\n",
              "      </script>\n",
              "    </div>\n",
              "  </div>\n",
              "  "
            ]
          },
          "metadata": {},
          "execution_count": 85
        }
      ]
    },
    {
      "cell_type": "code",
      "source": [
        "import matplotlib.pyplot as plt\n",
        "\n",
        "\n",
        "plt.figure(figsize=(9, 5))\n",
        "plt.title('MobileNetV3 performance vs. train data size.', fontdict={'fontsize': 16})\n",
        "\n",
        "ax1 = plt.subplot()\n",
        "ax1.scatter(test_accuracies['model'], test_accuracies['accuracy'], color='r')\n",
        "ax1.plot(test_accuracies['model'], test_accuracies['accuracy'], color='r', label='accuracy')\n",
        "plt.ylabel('accuracy')\n",
        "plt.legend()\n",
        "\n",
        "ax2 = ax1.twinx()\n",
        "bars = ax2.bar(\n",
        "    test_accuracies['model'], \n",
        "    test_accuracies['size'], \n",
        "    color=['lightgrey', 'lightblue', 'lightblue', 'lightblue'],\n",
        "    alpha=0.6\n",
        ")\n",
        "\n",
        "plt.ylabel('train data size')"
      ],
      "metadata": {
        "colab": {
          "base_uri": "https://localhost:8080/",
          "height": 412
        },
        "id": "fk6MmVfM_VXU",
        "outputId": "8454b787-1589-4e83-d487-7c2ea053123b"
      },
      "execution_count": null,
      "outputs": [
        {
          "output_type": "stream",
          "name": "stderr",
          "text": [
            "/usr/local/lib/python3.7/dist-packages/ipykernel_launcher.py:7: MatplotlibDeprecationWarning: Adding an axes using the same arguments as a previous axes currently reuses the earlier instance.  In a future version, a new instance will always be created and returned.  Meanwhile, this warning can be suppressed, and the future behavior ensured, by passing a unique label to each axes instance.\n",
            "  import sys\n"
          ]
        },
        {
          "output_type": "execute_result",
          "data": {
            "text/plain": [
              "Text(0, 0.5, 'train data size')"
            ]
          },
          "metadata": {},
          "execution_count": 110
        },
        {
          "output_type": "display_data",
          "data": {
            "text/plain": [
              "<Figure size 648x360 with 2 Axes>"
            ],
            "image/png": "[encoded data removed]"
          },
          "metadata": {
            "needs_background": "light"
          }
        }
      ]
    }
  ],
  "metadata": {
    "accelerator": "GPU",
    "colab": {
      "collapsed_sections": [],
      "machine_shape": "hm",
      "name": "Data Augmentation.ipynb",
      "provenance": []
    },
    "gpuClass": "standard",
    "kernelspec": {
      "display_name": "Python 3",
      "name": "python3"
    },
    "language_info": {
      "name": "python"
    },
    "widgets": {
      "application/vnd.jupyter.widget-state+json": {
        "5139879c331f4319829d62f18f8e310f": {
          "model_module": "@jupyter-widgets/controls",
          "model_name": "HBoxModel",
          "model_module_version": "1.5.0",
          "state": {
            "_dom_classes": [],
            "_model_module": "@jupyter-widgets/controls",
            "_model_module_version": "1.5.0",
            "_model_name": "HBoxModel",
            "_view_count": null,
            "_view_module": "@jupyter-widgets/controls",
            "_view_module_version": "1.5.0",
            "_view_name": "HBoxView",
            "box_style": "",
            "children": [
              "IPY_MODEL_603aa731ca0c47a597d57eb51e490ecb",
              "IPY_MODEL_6cd909e544394abf8a92b16993b10824",
              "IPY_MODEL_6f118a80079348b3a5df4c39b08e900d"
            ],
            "layout": "IPY_MODEL_eb79451200de45afab5d36a5fbd921a1"
          }
        },
        "603aa731ca0c47a597d57eb51e490ecb": {
          "model_module": "@jupyter-widgets/controls",
          "model_name": "HTMLModel",
          "model_module_version": "1.5.0",
          "state": {
            "_dom_classes": [],
            "_model_module": "@jupyter-widgets/controls",
            "_model_module_version": "1.5.0",
            "_model_name": "HTMLModel",
            "_view_count": null,
            "_view_module": "@jupyter-widgets/controls",
            "_view_module_version": "1.5.0",
            "_view_name": "HTMLView",
            "description": "",
            "description_tooltip": null,
            "layout": "IPY_MODEL_00e8079e20aa49119ccc1eef10afbf37",
            "placeholder": "​",
            "style": "IPY_MODEL_c22d29a4331d476bb6c29c4b04b06da8",
            "value": "Testing DataLoader 0: 100%"
          }
        },
        "6cd909e544394abf8a92b16993b10824": {
          "model_module": "@jupyter-widgets/controls",
          "model_name": "FloatProgressModel",
          "model_module_version": "1.5.0",
          "state": {
            "_dom_classes": [],
            "_model_module": "@jupyter-widgets/controls",
            "_model_module_version": "1.5.0",
            "_model_name": "FloatProgressModel",
            "_view_count": null,
            "_view_module": "@jupyter-widgets/controls",
            "_view_module_version": "1.5.0",
            "_view_name": "ProgressView",
            "bar_style": "success",
            "description": "",
            "description_tooltip": null,
            "layout": "IPY_MODEL_2a7c67c5c85b45f39a904c920f20014f",
            "max": 23,
            "min": 0,
            "orientation": "horizontal",
            "style": "IPY_MODEL_1e9f3056bf504b369f58127d690fe598",
            "value": 23
          }
        },
        "6f118a80079348b3a5df4c39b08e900d": {
          "model_module": "@jupyter-widgets/controls",
          "model_name": "HTMLModel",
          "model_module_version": "1.5.0",
          "state": {
            "_dom_classes": [],
            "_model_module": "@jupyter-widgets/controls",
            "_model_module_version": "1.5.0",
            "_model_name": "HTMLModel",
            "_view_count": null,
            "_view_module": "@jupyter-widgets/controls",
            "_view_module_version": "1.5.0",
            "_view_name": "HTMLView",
            "description": "",
            "description_tooltip": null,
            "layout": "IPY_MODEL_4ecf0e71b97446368e62d3a5a36b1f7e",
            "placeholder": "​",
            "style": "IPY_MODEL_88754aa1560e4d9a8bab4c715b3e4cc3",
            "value": " 23/23 [00:52&lt;00:00,  2.28s/it]"
          }
        },
        "eb79451200de45afab5d36a5fbd921a1": {
          "model_module": "@jupyter-widgets/base",
          "model_name": "LayoutModel",
          "model_module_version": "1.2.0",
          "state": {
            "_model_module": "@jupyter-widgets/base",
            "_model_module_version": "1.2.0",
            "_model_name": "LayoutModel",
            "_view_count": null,
            "_view_module": "@jupyter-widgets/base",
            "_view_module_version": "1.2.0",
            "_view_name": "LayoutView",
            "align_content": null,
            "align_items": null,
            "align_self": null,
            "border": null,
            "bottom": null,
            "display": "inline-flex",
            "flex": null,
            "flex_flow": "row wrap",
            "grid_area": null,
            "grid_auto_columns": null,
            "grid_auto_flow": null,
            "grid_auto_rows": null,
            "grid_column": null,
            "grid_gap": null,
            "grid_row": null,
            "grid_template_areas": null,
            "grid_template_columns": null,
            "grid_template_rows": null,
            "height": null,
            "justify_content": null,
            "justify_items": null,
            "left": null,
            "margin": null,
            "max_height": null,
            "max_width": null,
            "min_height": null,
            "min_width": null,
            "object_fit": null,
            "object_position": null,
            "order": null,
            "overflow": null,
            "overflow_x": null,
            "overflow_y": null,
            "padding": null,
            "right": null,
            "top": null,
            "visibility": null,
            "width": "100%"
          }
        },
        "00e8079e20aa49119ccc1eef10afbf37": {
          "model_module": "@jupyter-widgets/base",
          "model_name": "LayoutModel",
          "model_module_version": "1.2.0",
          "state": {
            "_model_module": "@jupyter-widgets/base",
            "_model_module_version": "1.2.0",
            "_model_name": "LayoutModel",
            "_view_count": null,
            "_view_module": "@jupyter-widgets/base",
            "_view_module_version": "1.2.0",
            "_view_name": "LayoutView",
            "align_content": null,
            "align_items": null,
            "align_self": null,
            "border": null,
            "bottom": null,
            "display": null,
            "flex": null,
            "flex_flow": null,
            "grid_area": null,
            "grid_auto_columns": null,
            "grid_auto_flow": null,
            "grid_auto_rows": null,
            "grid_column": null,
            "grid_gap": null,
            "grid_row": null,
            "grid_template_areas": null,
            "grid_template_columns": null,
            "grid_template_rows": null,
            "height": null,
            "justify_content": null,
            "justify_items": null,
            "left": null,
            "margin": null,
            "max_height": null,
            "max_width": null,
            "min_height": null,
            "min_width": null,
            "object_fit": null,
            "object_position": null,
            "order": null,
            "overflow": null,
            "overflow_x": null,
            "overflow_y": null,
            "padding": null,
            "right": null,
            "top": null,
            "visibility": null,
            "width": null
          }
        },
        "c22d29a4331d476bb6c29c4b04b06da8": {
          "model_module": "@jupyter-widgets/controls",
          "model_name": "DescriptionStyleModel",
          "model_module_version": "1.5.0",
          "state": {
            "_model_module": "@jupyter-widgets/controls",
            "_model_module_version": "1.5.0",
            "_model_name": "DescriptionStyleModel",
            "_view_count": null,
            "_view_module": "@jupyter-widgets/base",
            "_view_module_version": "1.2.0",
            "_view_name": "StyleView",
            "description_width": ""
          }
        },
        "2a7c67c5c85b45f39a904c920f20014f": {
          "model_module": "@jupyter-widgets/base",
          "model_name": "LayoutModel",
          "model_module_version": "1.2.0",
          "state": {
            "_model_module": "@jupyter-widgets/base",
            "_model_module_version": "1.2.0",
            "_model_name": "LayoutModel",
            "_view_count": null,
            "_view_module": "@jupyter-widgets/base",
            "_view_module_version": "1.2.0",
            "_view_name": "LayoutView",
            "align_content": null,
            "align_items": null,
            "align_self": null,
            "border": null,
            "bottom": null,
            "display": null,
            "flex": "2",
            "flex_flow": null,
            "grid_area": null,
            "grid_auto_columns": null,
            "grid_auto_flow": null,
            "grid_auto_rows": null,
            "grid_column": null,
            "grid_gap": null,
            "grid_row": null,
            "grid_template_areas": null,
            "grid_template_columns": null,
            "grid_template_rows": null,
            "height": null,
            "justify_content": null,
            "justify_items": null,
            "left": null,
            "margin": null,
            "max_height": null,
            "max_width": null,
            "min_height": null,
            "min_width": null,
            "object_fit": null,
            "object_position": null,
            "order": null,
            "overflow": null,
            "overflow_x": null,
            "overflow_y": null,
            "padding": null,
            "right": null,
            "top": null,
            "visibility": null,
            "width": null
          }
        },
        "1e9f3056bf504b369f58127d690fe598": {
          "model_module": "@jupyter-widgets/controls",
          "model_name": "ProgressStyleModel",
          "model_module_version": "1.5.0",
          "state": {
            "_model_module": "@jupyter-widgets/controls",
            "_model_module_version": "1.5.0",
            "_model_name": "ProgressStyleModel",
            "_view_count": null,
            "_view_module": "@jupyter-widgets/base",
            "_view_module_version": "1.2.0",
            "_view_name": "StyleView",
            "bar_color": null,
            "description_width": ""
          }
        },
        "4ecf0e71b97446368e62d3a5a36b1f7e": {
          "model_module": "@jupyter-widgets/base",
          "model_name": "LayoutModel",
          "model_module_version": "1.2.0",
          "state": {
            "_model_module": "@jupyter-widgets/base",
            "_model_module_version": "1.2.0",
            "_model_name": "LayoutModel",
            "_view_count": null,
            "_view_module": "@jupyter-widgets/base",
            "_view_module_version": "1.2.0",
            "_view_name": "LayoutView",
            "align_content": null,
            "align_items": null,
            "align_self": null,
            "border": null,
            "bottom": null,
            "display": null,
            "flex": null,
            "flex_flow": null,
            "grid_area": null,
            "grid_auto_columns": null,
            "grid_auto_flow": null,
            "grid_auto_rows": null,
            "grid_column": null,
            "grid_gap": null,
            "grid_row": null,
            "grid_template_areas": null,
            "grid_template_columns": null,
            "grid_template_rows": null,
            "height": null,
            "justify_content": null,
            "justify_items": null,
            "left": null,
            "margin": null,
            "max_height": null,
            "max_width": null,
            "min_height": null,
            "min_width": null,
            "object_fit": null,
            "object_position": null,
            "order": null,
            "overflow": null,
            "overflow_x": null,
            "overflow_y": null,
            "padding": null,
            "right": null,
            "top": null,
            "visibility": null,
            "width": null
          }
        },
        "88754aa1560e4d9a8bab4c715b3e4cc3": {
          "model_module": "@jupyter-widgets/controls",
          "model_name": "DescriptionStyleModel",
          "model_module_version": "1.5.0",
          "state": {
            "_model_module": "@jupyter-widgets/controls",
            "_model_module_version": "1.5.0",
            "_model_name": "DescriptionStyleModel",
            "_view_count": null,
            "_view_module": "@jupyter-widgets/base",
            "_view_module_version": "1.2.0",
            "_view_name": "StyleView",
            "description_width": ""
          }
        },
        "ff262d727c7e48e49b96fbf4ecdfd015": {
          "model_module": "@jupyter-widgets/controls",
          "model_name": "HBoxModel",
          "model_module_version": "1.5.0",
          "state": {
            "_dom_classes": [],
            "_model_module": "@jupyter-widgets/controls",
            "_model_module_version": "1.5.0",
            "_model_name": "HBoxModel",
            "_view_count": null,
            "_view_module": "@jupyter-widgets/controls",
            "_view_module_version": "1.5.0",
            "_view_name": "HBoxView",
            "box_style": "",
            "children": [
              "IPY_MODEL_f19796ada3e54c6e84b99f4411e62408",
              "IPY_MODEL_ccea9f9a3b3b431b8b75b31903d0605e",
              "IPY_MODEL_fb35a3e245d44bbcac0bb2ceca9a59c7"
            ],
            "layout": "IPY_MODEL_dfc5b387e96242968334b315966120e9"
          }
        },
        "f19796ada3e54c6e84b99f4411e62408": {
          "model_module": "@jupyter-widgets/controls",
          "model_name": "HTMLModel",
          "model_module_version": "1.5.0",
          "state": {
            "_dom_classes": [],
            "_model_module": "@jupyter-widgets/controls",
            "_model_module_version": "1.5.0",
            "_model_name": "HTMLModel",
            "_view_count": null,
            "_view_module": "@jupyter-widgets/controls",
            "_view_module_version": "1.5.0",
            "_view_name": "HTMLView",
            "description": "",
            "description_tooltip": null,
            "layout": "IPY_MODEL_331f97e331944124a92fdf9fc167b14f",
            "placeholder": "​",
            "style": "IPY_MODEL_5ebe8b0055b74e03abca3239c861a86d",
            "value": "Testing DataLoader 0: 100%"
          }
        },
        "ccea9f9a3b3b431b8b75b31903d0605e": {
          "model_module": "@jupyter-widgets/controls",
          "model_name": "FloatProgressModel",
          "model_module_version": "1.5.0",
          "state": {
            "_dom_classes": [],
            "_model_module": "@jupyter-widgets/controls",
            "_model_module_version": "1.5.0",
            "_model_name": "FloatProgressModel",
            "_view_count": null,
            "_view_module": "@jupyter-widgets/controls",
            "_view_module_version": "1.5.0",
            "_view_name": "ProgressView",
            "bar_style": "success",
            "description": "",
            "description_tooltip": null,
            "layout": "IPY_MODEL_b3d25de0431c47f6854a78dbcff80908",
            "max": 23,
            "min": 0,
            "orientation": "horizontal",
            "style": "IPY_MODEL_fbaa7c11f78e4232a00338dbfd981265",
            "value": 23
          }
        },
        "fb35a3e245d44bbcac0bb2ceca9a59c7": {
          "model_module": "@jupyter-widgets/controls",
          "model_name": "HTMLModel",
          "model_module_version": "1.5.0",
          "state": {
            "_dom_classes": [],
            "_model_module": "@jupyter-widgets/controls",
            "_model_module_version": "1.5.0",
            "_model_name": "HTMLModel",
            "_view_count": null,
            "_view_module": "@jupyter-widgets/controls",
            "_view_module_version": "1.5.0",
            "_view_name": "HTMLView",
            "description": "",
            "description_tooltip": null,
            "layout": "IPY_MODEL_7c9377d241dd40a5a1445beb23d760ba",
            "placeholder": "​",
            "style": "IPY_MODEL_87237db2a2d64e519442f8583392cf24",
            "value": " 23/23 [00:51&lt;00:00,  2.26s/it]"
          }
        },
        "dfc5b387e96242968334b315966120e9": {
          "model_module": "@jupyter-widgets/base",
          "model_name": "LayoutModel",
          "model_module_version": "1.2.0",
          "state": {
            "_model_module": "@jupyter-widgets/base",
            "_model_module_version": "1.2.0",
            "_model_name": "LayoutModel",
            "_view_count": null,
            "_view_module": "@jupyter-widgets/base",
            "_view_module_version": "1.2.0",
            "_view_name": "LayoutView",
            "align_content": null,
            "align_items": null,
            "align_self": null,
            "border": null,
            "bottom": null,
            "display": "inline-flex",
            "flex": null,
            "flex_flow": "row wrap",
            "grid_area": null,
            "grid_auto_columns": null,
            "grid_auto_flow": null,
            "grid_auto_rows": null,
            "grid_column": null,
            "grid_gap": null,
            "grid_row": null,
            "grid_template_areas": null,
            "grid_template_columns": null,
            "grid_template_rows": null,
            "height": null,
            "justify_content": null,
            "justify_items": null,
            "left": null,
            "margin": null,
            "max_height": null,
            "max_width": null,
            "min_height": null,
            "min_width": null,
            "object_fit": null,
            "object_position": null,
            "order": null,
            "overflow": null,
            "overflow_x": null,
            "overflow_y": null,
            "padding": null,
            "right": null,
            "top": null,
            "visibility": null,
            "width": "100%"
          }
        },
        "331f97e331944124a92fdf9fc167b14f": {
          "model_module": "@jupyter-widgets/base",
          "model_name": "LayoutModel",
          "model_module_version": "1.2.0",
          "state": {
            "_model_module": "@jupyter-widgets/base",
            "_model_module_version": "1.2.0",
            "_model_name": "LayoutModel",
            "_view_count": null,
            "_view_module": "@jupyter-widgets/base",
            "_view_module_version": "1.2.0",
            "_view_name": "LayoutView",
            "align_content": null,
            "align_items": null,
            "align_self": null,
            "border": null,
            "bottom": null,
            "display": null,
            "flex": null,
            "flex_flow": null,
            "grid_area": null,
            "grid_auto_columns": null,
            "grid_auto_flow": null,
            "grid_auto_rows": null,
            "grid_column": null,
            "grid_gap": null,
            "grid_row": null,
            "grid_template_areas": null,
            "grid_template_columns": null,
            "grid_template_rows": null,
            "height": null,
            "justify_content": null,
            "justify_items": null,
            "left": null,
            "margin": null,
            "max_height": null,
            "max_width": null,
            "min_height": null,
            "min_width": null,
            "object_fit": null,
            "object_position": null,
            "order": null,
            "overflow": null,
            "overflow_x": null,
            "overflow_y": null,
            "padding": null,
            "right": null,
            "top": null,
            "visibility": null,
            "width": null
          }
        },
        "5ebe8b0055b74e03abca3239c861a86d": {
          "model_module": "@jupyter-widgets/controls",
          "model_name": "DescriptionStyleModel",
          "model_module_version": "1.5.0",
          "state": {
            "_model_module": "@jupyter-widgets/controls",
            "_model_module_version": "1.5.0",
            "_model_name": "DescriptionStyleModel",
            "_view_count": null,
            "_view_module": "@jupyter-widgets/base",
            "_view_module_version": "1.2.0",
            "_view_name": "StyleView",
            "description_width": ""
          }
        },
        "b3d25de0431c47f6854a78dbcff80908": {
          "model_module": "@jupyter-widgets/base",
          "model_name": "LayoutModel",
          "model_module_version": "1.2.0",
          "state": {
            "_model_module": "@jupyter-widgets/base",
            "_model_module_version": "1.2.0",
            "_model_name": "LayoutModel",
            "_view_count": null,
            "_view_module": "@jupyter-widgets/base",
            "_view_module_version": "1.2.0",
            "_view_name": "LayoutView",
            "align_content": null,
            "align_items": null,
            "align_self": null,
            "border": null,
            "bottom": null,
            "display": null,
            "flex": "2",
            "flex_flow": null,
            "grid_area": null,
            "grid_auto_columns": null,
            "grid_auto_flow": null,
            "grid_auto_rows": null,
            "grid_column": null,
            "grid_gap": null,
            "grid_row": null,
            "grid_template_areas": null,
            "grid_template_columns": null,
            "grid_template_rows": null,
            "height": null,
            "justify_content": null,
            "justify_items": null,
            "left": null,
            "margin": null,
            "max_height": null,
            "max_width": null,
            "min_height": null,
            "min_width": null,
            "object_fit": null,
            "object_position": null,
            "order": null,
            "overflow": null,
            "overflow_x": null,
            "overflow_y": null,
            "padding": null,
            "right": null,
            "top": null,
            "visibility": null,
            "width": null
          }
        },
        "fbaa7c11f78e4232a00338dbfd981265": {
          "model_module": "@jupyter-widgets/controls",
          "model_name": "ProgressStyleModel",
          "model_module_version": "1.5.0",
          "state": {
            "_model_module": "@jupyter-widgets/controls",
            "_model_module_version": "1.5.0",
            "_model_name": "ProgressStyleModel",
            "_view_count": null,
            "_view_module": "@jupyter-widgets/base",
            "_view_module_version": "1.2.0",
            "_view_name": "StyleView",
            "bar_color": null,
            "description_width": ""
          }
        },
        "7c9377d241dd40a5a1445beb23d760ba": {
          "model_module": "@jupyter-widgets/base",
          "model_name": "LayoutModel",
          "model_module_version": "1.2.0",
          "state": {
            "_model_module": "@jupyter-widgets/base",
            "_model_module_version": "1.2.0",
            "_model_name": "LayoutModel",
            "_view_count": null,
            "_view_module": "@jupyter-widgets/base",
            "_view_module_version": "1.2.0",
            "_view_name": "LayoutView",
            "align_content": null,
            "align_items": null,
            "align_self": null,
            "border": null,
            "bottom": null,
            "display": null,
            "flex": null,
            "flex_flow": null,
            "grid_area": null,
            "grid_auto_columns": null,
            "grid_auto_flow": null,
            "grid_auto_rows": null,
            "grid_column": null,
            "grid_gap": null,
            "grid_row": null,
            "grid_template_areas": null,
            "grid_template_columns": null,
            "grid_template_rows": null,
            "height": null,
            "justify_content": null,
            "justify_items": null,
            "left": null,
            "margin": null,
            "max_height": null,
            "max_width": null,
            "min_height": null,
            "min_width": null,
            "object_fit": null,
            "object_position": null,
            "order": null,
            "overflow": null,
            "overflow_x": null,
            "overflow_y": null,
            "padding": null,
            "right": null,
            "top": null,
            "visibility": null,
            "width": null
          }
        },
        "87237db2a2d64e519442f8583392cf24": {
          "model_module": "@jupyter-widgets/controls",
          "model_name": "DescriptionStyleModel",
          "model_module_version": "1.5.0",
          "state": {
            "_model_module": "@jupyter-widgets/controls",
            "_model_module_version": "1.5.0",
            "_model_name": "DescriptionStyleModel",
            "_view_count": null,
            "_view_module": "@jupyter-widgets/base",
            "_view_module_version": "1.2.0",
            "_view_name": "StyleView",
            "description_width": ""
          }
        },
        "8d3f56b2de424cdcb3d308c942580af0": {
          "model_module": "@jupyter-widgets/controls",
          "model_name": "HBoxModel",
          "model_module_version": "1.5.0",
          "state": {
            "_dom_classes": [],
            "_model_module": "@jupyter-widgets/controls",
            "_model_module_version": "1.5.0",
            "_model_name": "HBoxModel",
            "_view_count": null,
            "_view_module": "@jupyter-widgets/controls",
            "_view_module_version": "1.5.0",
            "_view_name": "HBoxView",
            "box_style": "",
            "children": [
              "IPY_MODEL_c6d89ecd2abf45aaad31604ef634f109",
              "IPY_MODEL_5225942080764d5d9010d75b5fd32d34",
              "IPY_MODEL_ea27fa3d7e6f409fa86976b5fcbe83bc"
            ],
            "layout": "IPY_MODEL_5b4014b8e4304a7db4180e0d593dc4f9"
          }
        },
        "c6d89ecd2abf45aaad31604ef634f109": {
          "model_module": "@jupyter-widgets/controls",
          "model_name": "HTMLModel",
          "model_module_version": "1.5.0",
          "state": {
            "_dom_classes": [],
            "_model_module": "@jupyter-widgets/controls",
            "_model_module_version": "1.5.0",
            "_model_name": "HTMLModel",
            "_view_count": null,
            "_view_module": "@jupyter-widgets/controls",
            "_view_module_version": "1.5.0",
            "_view_name": "HTMLView",
            "description": "",
            "description_tooltip": null,
            "layout": "IPY_MODEL_fba65448e44942f1adf45eda795cf8ab",
            "placeholder": "​",
            "style": "IPY_MODEL_c111a51302514fd580289cdbad6aa5cc",
            "value": "Testing DataLoader 0: 100%"
          }
        },
        "5225942080764d5d9010d75b5fd32d34": {
          "model_module": "@jupyter-widgets/controls",
          "model_name": "FloatProgressModel",
          "model_module_version": "1.5.0",
          "state": {
            "_dom_classes": [],
            "_model_module": "@jupyter-widgets/controls",
            "_model_module_version": "1.5.0",
            "_model_name": "FloatProgressModel",
            "_view_count": null,
            "_view_module": "@jupyter-widgets/controls",
            "_view_module_version": "1.5.0",
            "_view_name": "ProgressView",
            "bar_style": "success",
            "description": "",
            "description_tooltip": null,
            "layout": "IPY_MODEL_9ce96a6fadad4a1dbaadaf4d5988646f",
            "max": 23,
            "min": 0,
            "orientation": "horizontal",
            "style": "IPY_MODEL_50b4cebc50244cafbd64822b772696f1",
            "value": 23
          }
        },
        "ea27fa3d7e6f409fa86976b5fcbe83bc": {
          "model_module": "@jupyter-widgets/controls",
          "model_name": "HTMLModel",
          "model_module_version": "1.5.0",
          "state": {
            "_dom_classes": [],
            "_model_module": "@jupyter-widgets/controls",
            "_model_module_version": "1.5.0",
            "_model_name": "HTMLModel",
            "_view_count": null,
            "_view_module": "@jupyter-widgets/controls",
            "_view_module_version": "1.5.0",
            "_view_name": "HTMLView",
            "description": "",
            "description_tooltip": null,
            "layout": "IPY_MODEL_c1ecfc06fd054c6e8cdf663f19caddba",
            "placeholder": "​",
            "style": "IPY_MODEL_09942dfa93d44470912994813c564900",
            "value": " 23/23 [00:50&lt;00:00,  2.22s/it]"
          }
        },
        "5b4014b8e4304a7db4180e0d593dc4f9": {
          "model_module": "@jupyter-widgets/base",
          "model_name": "LayoutModel",
          "model_module_version": "1.2.0",
          "state": {
            "_model_module": "@jupyter-widgets/base",
            "_model_module_version": "1.2.0",
            "_model_name": "LayoutModel",
            "_view_count": null,
            "_view_module": "@jupyter-widgets/base",
            "_view_module_version": "1.2.0",
            "_view_name": "LayoutView",
            "align_content": null,
            "align_items": null,
            "align_self": null,
            "border": null,
            "bottom": null,
            "display": "inline-flex",
            "flex": null,
            "flex_flow": "row wrap",
            "grid_area": null,
            "grid_auto_columns": null,
            "grid_auto_flow": null,
            "grid_auto_rows": null,
            "grid_column": null,
            "grid_gap": null,
            "grid_row": null,
            "grid_template_areas": null,
            "grid_template_columns": null,
            "grid_template_rows": null,
            "height": null,
            "justify_content": null,
            "justify_items": null,
            "left": null,
            "margin": null,
            "max_height": null,
            "max_width": null,
            "min_height": null,
            "min_width": null,
            "object_fit": null,
            "object_position": null,
            "order": null,
            "overflow": null,
            "overflow_x": null,
            "overflow_y": null,
            "padding": null,
            "right": null,
            "top": null,
            "visibility": null,
            "width": "100%"
          }
        },
        "fba65448e44942f1adf45eda795cf8ab": {
          "model_module": "@jupyter-widgets/base",
          "model_name": "LayoutModel",
          "model_module_version": "1.2.0",
          "state": {
            "_model_module": "@jupyter-widgets/base",
            "_model_module_version": "1.2.0",
            "_model_name": "LayoutModel",
            "_view_count": null,
            "_view_module": "@jupyter-widgets/base",
            "_view_module_version": "1.2.0",
            "_view_name": "LayoutView",
            "align_content": null,
            "align_items": null,
            "align_self": null,
            "border": null,
            "bottom": null,
            "display": null,
            "flex": null,
            "flex_flow": null,
            "grid_area": null,
            "grid_auto_columns": null,
            "grid_auto_flow": null,
            "grid_auto_rows": null,
            "grid_column": null,
            "grid_gap": null,
            "grid_row": null,
            "grid_template_areas": null,
            "grid_template_columns": null,
            "grid_template_rows": null,
            "height": null,
            "justify_content": null,
            "justify_items": null,
            "left": null,
            "margin": null,
            "max_height": null,
            "max_width": null,
            "min_height": null,
            "min_width": null,
            "object_fit": null,
            "object_position": null,
            "order": null,
            "overflow": null,
            "overflow_x": null,
            "overflow_y": null,
            "padding": null,
            "right": null,
            "top": null,
            "visibility": null,
            "width": null
          }
        },
        "c111a51302514fd580289cdbad6aa5cc": {
          "model_module": "@jupyter-widgets/controls",
          "model_name": "DescriptionStyleModel",
          "model_module_version": "1.5.0",
          "state": {
            "_model_module": "@jupyter-widgets/controls",
            "_model_module_version": "1.5.0",
            "_model_name": "DescriptionStyleModel",
            "_view_count": null,
            "_view_module": "@jupyter-widgets/base",
            "_view_module_version": "1.2.0",
            "_view_name": "StyleView",
            "description_width": ""
          }
        },
        "9ce96a6fadad4a1dbaadaf4d5988646f": {
          "model_module": "@jupyter-widgets/base",
          "model_name": "LayoutModel",
          "model_module_version": "1.2.0",
          "state": {
            "_model_module": "@jupyter-widgets/base",
            "_model_module_version": "1.2.0",
            "_model_name": "LayoutModel",
            "_view_count": null,
            "_view_module": "@jupyter-widgets/base",
            "_view_module_version": "1.2.0",
            "_view_name": "LayoutView",
            "align_content": null,
            "align_items": null,
            "align_self": null,
            "border": null,
            "bottom": null,
            "display": null,
            "flex": "2",
            "flex_flow": null,
            "grid_area": null,
            "grid_auto_columns": null,
            "grid_auto_flow": null,
            "grid_auto_rows": null,
            "grid_column": null,
            "grid_gap": null,
            "grid_row": null,
            "grid_template_areas": null,
            "grid_template_columns": null,
            "grid_template_rows": null,
            "height": null,
            "justify_content": null,
            "justify_items": null,
            "left": null,
            "margin": null,
            "max_height": null,
            "max_width": null,
            "min_height": null,
            "min_width": null,
            "object_fit": null,
            "object_position": null,
            "order": null,
            "overflow": null,
            "overflow_x": null,
            "overflow_y": null,
            "padding": null,
            "right": null,
            "top": null,
            "visibility": null,
            "width": null
          }
        },
        "50b4cebc50244cafbd64822b772696f1": {
          "model_module": "@jupyter-widgets/controls",
          "model_name": "ProgressStyleModel",
          "model_module_version": "1.5.0",
          "state": {
            "_model_module": "@jupyter-widgets/controls",
            "_model_module_version": "1.5.0",
            "_model_name": "ProgressStyleModel",
            "_view_count": null,
            "_view_module": "@jupyter-widgets/base",
            "_view_module_version": "1.2.0",
            "_view_name": "StyleView",
            "bar_color": null,
            "description_width": ""
          }
        },
        "c1ecfc06fd054c6e8cdf663f19caddba": {
          "model_module": "@jupyter-widgets/base",
          "model_name": "LayoutModel",
          "model_module_version": "1.2.0",
          "state": {
            "_model_module": "@jupyter-widgets/base",
            "_model_module_version": "1.2.0",
            "_model_name": "LayoutModel",
            "_view_count": null,
            "_view_module": "@jupyter-widgets/base",
            "_view_module_version": "1.2.0",
            "_view_name": "LayoutView",
            "align_content": null,
            "align_items": null,
            "align_self": null,
            "border": null,
            "bottom": null,
            "display": null,
            "flex": null,
            "flex_flow": null,
            "grid_area": null,
            "grid_auto_columns": null,
            "grid_auto_flow": null,
            "grid_auto_rows": null,
            "grid_column": null,
            "grid_gap": null,
            "grid_row": null,
            "grid_template_areas": null,
            "grid_template_columns": null,
            "grid_template_rows": null,
            "height": null,
            "justify_content": null,
            "justify_items": null,
            "left": null,
            "margin": null,
            "max_height": null,
            "max_width": null,
            "min_height": null,
            "min_width": null,
            "object_fit": null,
            "object_position": null,
            "order": null,
            "overflow": null,
            "overflow_x": null,
            "overflow_y": null,
            "padding": null,
            "right": null,
            "top": null,
            "visibility": null,
            "width": null
          }
        },
        "09942dfa93d44470912994813c564900": {
          "model_module": "@jupyter-widgets/controls",
          "model_name": "DescriptionStyleModel",
          "model_module_version": "1.5.0",
          "state": {
            "_model_module": "@jupyter-widgets/controls",
            "_model_module_version": "1.5.0",
            "_model_name": "DescriptionStyleModel",
            "_view_count": null,
            "_view_module": "@jupyter-widgets/base",
            "_view_module_version": "1.2.0",
            "_view_name": "StyleView",
            "description_width": ""
          }
        },
        "de4a13897d404eb09fb25e764c03d01f": {
          "model_module": "@jupyter-widgets/controls",
          "model_name": "HBoxModel",
          "model_module_version": "1.5.0",
          "state": {
            "_dom_classes": [],
            "_model_module": "@jupyter-widgets/controls",
            "_model_module_version": "1.5.0",
            "_model_name": "HBoxModel",
            "_view_count": null,
            "_view_module": "@jupyter-widgets/controls",
            "_view_module_version": "1.5.0",
            "_view_name": "HBoxView",
            "box_style": "",
            "children": [
              "IPY_MODEL_8c99b4a9905345bd80546db0bbb6be85",
              "IPY_MODEL_d0d6f68360ac4cd9ba65c85b7bb2d30d",
              "IPY_MODEL_4df78c363f6044989c18946f172afb7e"
            ],
            "layout": "IPY_MODEL_f01ea52a3d734a8686f579a72948c3cf"
          }
        },
        "8c99b4a9905345bd80546db0bbb6be85": {
          "model_module": "@jupyter-widgets/controls",
          "model_name": "HTMLModel",
          "model_module_version": "1.5.0",
          "state": {
            "_dom_classes": [],
            "_model_module": "@jupyter-widgets/controls",
            "_model_module_version": "1.5.0",
            "_model_name": "HTMLModel",
            "_view_count": null,
            "_view_module": "@jupyter-widgets/controls",
            "_view_module_version": "1.5.0",
            "_view_name": "HTMLView",
            "description": "",
            "description_tooltip": null,
            "layout": "IPY_MODEL_a8d1fe08b6964a6883ff6fb385eccdcf",
            "placeholder": "​",
            "style": "IPY_MODEL_b869087ac77043d7bf3ab4c72c3bac5f",
            "value": "Testing DataLoader 0: 100%"
          }
        },
        "d0d6f68360ac4cd9ba65c85b7bb2d30d": {
          "model_module": "@jupyter-widgets/controls",
          "model_name": "FloatProgressModel",
          "model_module_version": "1.5.0",
          "state": {
            "_dom_classes": [],
            "_model_module": "@jupyter-widgets/controls",
            "_model_module_version": "1.5.0",
            "_model_name": "FloatProgressModel",
            "_view_count": null,
            "_view_module": "@jupyter-widgets/controls",
            "_view_module_version": "1.5.0",
            "_view_name": "ProgressView",
            "bar_style": "success",
            "description": "",
            "description_tooltip": null,
            "layout": "IPY_MODEL_270fe77222014268aea58fbfef9672b3",
            "max": 23,
            "min": 0,
            "orientation": "horizontal",
            "style": "IPY_MODEL_047bac6d7e18497e9cf17e7a8709bff2",
            "value": 23
          }
        },
        "4df78c363f6044989c18946f172afb7e": {
          "model_module": "@jupyter-widgets/controls",
          "model_name": "HTMLModel",
          "model_module_version": "1.5.0",
          "state": {
            "_dom_classes": [],
            "_model_module": "@jupyter-widgets/controls",
            "_model_module_version": "1.5.0",
            "_model_name": "HTMLModel",
            "_view_count": null,
            "_view_module": "@jupyter-widgets/controls",
            "_view_module_version": "1.5.0",
            "_view_name": "HTMLView",
            "description": "",
            "description_tooltip": null,
            "layout": "IPY_MODEL_e3766ecef5934b8c886c045e2c9b55a4",
            "placeholder": "​",
            "style": "IPY_MODEL_48ad5a8a250a413e80bda9bf7a824a0e",
            "value": " 23/23 [00:51&lt;00:00,  2.28s/it]"
          }
        },
        "f01ea52a3d734a8686f579a72948c3cf": {
          "model_module": "@jupyter-widgets/base",
          "model_name": "LayoutModel",
          "model_module_version": "1.2.0",
          "state": {
            "_model_module": "@jupyter-widgets/base",
            "_model_module_version": "1.2.0",
            "_model_name": "LayoutModel",
            "_view_count": null,
            "_view_module": "@jupyter-widgets/base",
            "_view_module_version": "1.2.0",
            "_view_name": "LayoutView",
            "align_content": null,
            "align_items": null,
            "align_self": null,
            "border": null,
            "bottom": null,
            "display": "inline-flex",
            "flex": null,
            "flex_flow": "row wrap",
            "grid_area": null,
            "grid_auto_columns": null,
            "grid_auto_flow": null,
            "grid_auto_rows": null,
            "grid_column": null,
            "grid_gap": null,
            "grid_row": null,
            "grid_template_areas": null,
            "grid_template_columns": null,
            "grid_template_rows": null,
            "height": null,
            "justify_content": null,
            "justify_items": null,
            "left": null,
            "margin": null,
            "max_height": null,
            "max_width": null,
            "min_height": null,
            "min_width": null,
            "object_fit": null,
            "object_position": null,
            "order": null,
            "overflow": null,
            "overflow_x": null,
            "overflow_y": null,
            "padding": null,
            "right": null,
            "top": null,
            "visibility": null,
            "width": "100%"
          }
        },
        "a8d1fe08b6964a6883ff6fb385eccdcf": {
          "model_module": "@jupyter-widgets/base",
          "model_name": "LayoutModel",
          "model_module_version": "1.2.0",
          "state": {
            "_model_module": "@jupyter-widgets/base",
            "_model_module_version": "1.2.0",
            "_model_name": "LayoutModel",
            "_view_count": null,
            "_view_module": "@jupyter-widgets/base",
            "_view_module_version": "1.2.0",
            "_view_name": "LayoutView",
            "align_content": null,
            "align_items": null,
            "align_self": null,
            "border": null,
            "bottom": null,
            "display": null,
            "flex": null,
            "flex_flow": null,
            "grid_area": null,
            "grid_auto_columns": null,
            "grid_auto_flow": null,
            "grid_auto_rows": null,
            "grid_column": null,
            "grid_gap": null,
            "grid_row": null,
            "grid_template_areas": null,
            "grid_template_columns": null,
            "grid_template_rows": null,
            "height": null,
            "justify_content": null,
            "justify_items": null,
            "left": null,
            "margin": null,
            "max_height": null,
            "max_width": null,
            "min_height": null,
            "min_width": null,
            "object_fit": null,
            "object_position": null,
            "order": null,
            "overflow": null,
            "overflow_x": null,
            "overflow_y": null,
            "padding": null,
            "right": null,
            "top": null,
            "visibility": null,
            "width": null
          }
        },
        "b869087ac77043d7bf3ab4c72c3bac5f": {
          "model_module": "@jupyter-widgets/controls",
          "model_name": "DescriptionStyleModel",
          "model_module_version": "1.5.0",
          "state": {
            "_model_module": "@jupyter-widgets/controls",
            "_model_module_version": "1.5.0",
            "_model_name": "DescriptionStyleModel",
            "_view_count": null,
            "_view_module": "@jupyter-widgets/base",
            "_view_module_version": "1.2.0",
            "_view_name": "StyleView",
            "description_width": ""
          }
        },
        "270fe77222014268aea58fbfef9672b3": {
          "model_module": "@jupyter-widgets/base",
          "model_name": "LayoutModel",
          "model_module_version": "1.2.0",
          "state": {
            "_model_module": "@jupyter-widgets/base",
            "_model_module_version": "1.2.0",
            "_model_name": "LayoutModel",
            "_view_count": null,
            "_view_module": "@jupyter-widgets/base",
            "_view_module_version": "1.2.0",
            "_view_name": "LayoutView",
            "align_content": null,
            "align_items": null,
            "align_self": null,
            "border": null,
            "bottom": null,
            "display": null,
            "flex": "2",
            "flex_flow": null,
            "grid_area": null,
            "grid_auto_columns": null,
            "grid_auto_flow": null,
            "grid_auto_rows": null,
            "grid_column": null,
            "grid_gap": null,
            "grid_row": null,
            "grid_template_areas": null,
            "grid_template_columns": null,
            "grid_template_rows": null,
            "height": null,
            "justify_content": null,
            "justify_items": null,
            "left": null,
            "margin": null,
            "max_height": null,
            "max_width": null,
            "min_height": null,
            "min_width": null,
            "object_fit": null,
            "object_position": null,
            "order": null,
            "overflow": null,
            "overflow_x": null,
            "overflow_y": null,
            "padding": null,
            "right": null,
            "top": null,
            "visibility": null,
            "width": null
          }
        },
        "047bac6d7e18497e9cf17e7a8709bff2": {
          "model_module": "@jupyter-widgets/controls",
          "model_name": "ProgressStyleModel",
          "model_module_version": "1.5.0",
          "state": {
            "_model_module": "@jupyter-widgets/controls",
            "_model_module_version": "1.5.0",
            "_model_name": "ProgressStyleModel",
            "_view_count": null,
            "_view_module": "@jupyter-widgets/base",
            "_view_module_version": "1.2.0",
            "_view_name": "StyleView",
            "bar_color": null,
            "description_width": ""
          }
        },
        "e3766ecef5934b8c886c045e2c9b55a4": {
          "model_module": "@jupyter-widgets/base",
          "model_name": "LayoutModel",
          "model_module_version": "1.2.0",
          "state": {
            "_model_module": "@jupyter-widgets/base",
            "_model_module_version": "1.2.0",
            "_model_name": "LayoutModel",
            "_view_count": null,
            "_view_module": "@jupyter-widgets/base",
            "_view_module_version": "1.2.0",
            "_view_name": "LayoutView",
            "align_content": null,
            "align_items": null,
            "align_self": null,
            "border": null,
            "bottom": null,
            "display": null,
            "flex": null,
            "flex_flow": null,
            "grid_area": null,
            "grid_auto_columns": null,
            "grid_auto_flow": null,
            "grid_auto_rows": null,
            "grid_column": null,
            "grid_gap": null,
            "grid_row": null,
            "grid_template_areas": null,
            "grid_template_columns": null,
            "grid_template_rows": null,
            "height": null,
            "justify_content": null,
            "justify_items": null,
            "left": null,
            "margin": null,
            "max_height": null,
            "max_width": null,
            "min_height": null,
            "min_width": null,
            "object_fit": null,
            "object_position": null,
            "order": null,
            "overflow": null,
            "overflow_x": null,
            "overflow_y": null,
            "padding": null,
            "right": null,
            "top": null,
            "visibility": null,
            "width": null
          }
        },
        "48ad5a8a250a413e80bda9bf7a824a0e": {
          "model_module": "@jupyter-widgets/controls",
          "model_name": "DescriptionStyleModel",
          "model_module_version": "1.5.0",
          "state": {
            "_model_module": "@jupyter-widgets/controls",
            "_model_module_version": "1.5.0",
            "_model_name": "DescriptionStyleModel",
            "_view_count": null,
            "_view_module": "@jupyter-widgets/base",
            "_view_module_version": "1.2.0",
            "_view_name": "StyleView",
            "description_width": ""
          }
        }
      }
    }
  },
  "nbformat": 4,
  "nbformat_minor": 0
}